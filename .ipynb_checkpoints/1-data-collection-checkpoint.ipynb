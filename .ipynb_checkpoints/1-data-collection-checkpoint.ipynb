{
 "cells": [
  {
   "cell_type": "markdown",
   "id": "7804b77b",
   "metadata": {},
   "source": [
    "# Data Concatenation / Initial Cleaning\n",
    "Used to combine the disparate jsonlines files from [OpenBeta](https://github.com/OpenBeta/climbing-data/tree/next) into one large csv of only non-bouldering routes. This includes transforming the column types to be easier to work with, and creation of numeric grade columns, a date established column, and if the grade has a plus/minus columns. The final dataset is saved to a csv."
   ]
  },
  {
   "cell_type": "code",
   "execution_count": 110,
   "id": "283039e3",
   "metadata": {},
   "outputs": [],
   "source": [
    "import pandas as pd\n",
    "import numpy as np\n",
    "import os\n",
    "import json\n",
    "import re\n",
    "import datefinder\n",
    "\n",
    "#so no data is hidden\n",
    "pd.set_option('display.max_colwidth', 100)\n",
    "pd.set_option('display.max_columns', None)\n",
    "pd.set_option('display.max_rows', 100)"
   ]
  },
  {
   "cell_type": "code",
   "execution_count": null,
   "id": "d8c1ae2d",
   "metadata": {},
   "outputs": [],
   "source": [
    "route_file_list = []\n",
    "\n",
    "for dirpath, subdirs, filenames in os.walk('./open-beta-routes/'):\n",
    "    route_file_list.extend([os.path.join(dirpath, name) for name in filenames if 'routes' in name])"
   ]
  },
  {
   "cell_type": "code",
   "execution_count": 18,
   "id": "d54d8bd0",
   "metadata": {},
   "outputs": [
    {
     "data": {
      "text/html": [
       "<div>\n",
       "<style scoped>\n",
       "    .dataframe tbody tr th:only-of-type {\n",
       "        vertical-align: middle;\n",
       "    }\n",
       "\n",
       "    .dataframe tbody tr th {\n",
       "        vertical-align: top;\n",
       "    }\n",
       "\n",
       "    .dataframe thead th {\n",
       "        text-align: right;\n",
       "    }\n",
       "</style>\n",
       "<table border=\"1\" class=\"dataframe\">\n",
       "  <thead>\n",
       "    <tr style=\"text-align: right;\">\n",
       "      <th></th>\n",
       "      <th>route_name</th>\n",
       "      <th>safety</th>\n",
       "      <th>fa</th>\n",
       "      <th>description</th>\n",
       "      <th>location</th>\n",
       "      <th>protection</th>\n",
       "      <th>mp_sector_id</th>\n",
       "      <th>mp_route_id</th>\n",
       "      <th>grade.YDS</th>\n",
       "      <th>grade.French</th>\n",
       "      <th>...</th>\n",
       "      <th>grade.Font</th>\n",
       "      <th>type.boulder</th>\n",
       "      <th>type.sport</th>\n",
       "      <th>type.tr</th>\n",
       "      <th>type.alpine</th>\n",
       "      <th>grade.yds_aid</th>\n",
       "      <th>type.aid</th>\n",
       "      <th>type.snow</th>\n",
       "      <th>type.mixed</th>\n",
       "      <th>type.ice</th>\n",
       "    </tr>\n",
       "  </thead>\n",
       "  <tbody>\n",
       "    <tr>\n",
       "      <th>0</th>\n",
       "      <td>Gravel Pit</td>\n",
       "      <td></td>\n",
       "      <td>Jason Milford/ Matt Schutz Spring 2020</td>\n",
       "      <td>[Goes up slab on bolts to steep corner on gear...</td>\n",
       "      <td></td>\n",
       "      <td>[Chains on top, can lower off easy. Pro to 3\" ...</td>\n",
       "      <td>119029240</td>\n",
       "      <td>119029258</td>\n",
       "      <td>5.12b/c</td>\n",
       "      <td>7b+</td>\n",
       "      <td>...</td>\n",
       "      <td>NaN</td>\n",
       "      <td>NaN</td>\n",
       "      <td>NaN</td>\n",
       "      <td>NaN</td>\n",
       "      <td>NaN</td>\n",
       "      <td>NaN</td>\n",
       "      <td>NaN</td>\n",
       "      <td>NaN</td>\n",
       "      <td>NaN</td>\n",
       "      <td>NaN</td>\n",
       "    </tr>\n",
       "    <tr>\n",
       "      <th>1</th>\n",
       "      <td>Random Impulse</td>\n",
       "      <td></td>\n",
       "      <td>\"Unknown\" or</td>\n",
       "      <td>[Some fun moves broken up by a few scree fille...</td>\n",
       "      <td>[25 feet to the right of Deep Springs Education.]</td>\n",
       "      <td>[A small assortment of cams and maybe a nut or...</td>\n",
       "      <td>119100232</td>\n",
       "      <td>119101118</td>\n",
       "      <td>5.7</td>\n",
       "      <td>5a</td>\n",
       "      <td>...</td>\n",
       "      <td>NaN</td>\n",
       "      <td>NaN</td>\n",
       "      <td>NaN</td>\n",
       "      <td>NaN</td>\n",
       "      <td>NaN</td>\n",
       "      <td>NaN</td>\n",
       "      <td>NaN</td>\n",
       "      <td>NaN</td>\n",
       "      <td>NaN</td>\n",
       "      <td>NaN</td>\n",
       "    </tr>\n",
       "    <tr>\n",
       "      <th>2</th>\n",
       "      <td>The Tick Wall</td>\n",
       "      <td></td>\n",
       "      <td>7, July 2020</td>\n",
       "      <td>[Bouldering. Approximately 14’ tall and 20’ or...</td>\n",
       "      <td>[Park at Sycamore Creek bridge and walk upstre...</td>\n",
       "      <td>[None. Bring your own pad.]</td>\n",
       "      <td>119181845</td>\n",
       "      <td>119181945</td>\n",
       "      <td>V-easy</td>\n",
       "      <td>NaN</td>\n",
       "      <td>...</td>\n",
       "      <td>3</td>\n",
       "      <td>True</td>\n",
       "      <td>NaN</td>\n",
       "      <td>NaN</td>\n",
       "      <td>NaN</td>\n",
       "      <td>NaN</td>\n",
       "      <td>NaN</td>\n",
       "      <td>NaN</td>\n",
       "      <td>NaN</td>\n",
       "      <td>NaN</td>\n",
       "    </tr>\n",
       "    <tr>\n",
       "      <th>3</th>\n",
       "      <td>Orange Crush</td>\n",
       "      <td></td>\n",
       "      <td>Wade Griffith, Sterling Killion, Scott Williams</td>\n",
       "      <td>[Pretty cool orange arete that sports some int...</td>\n",
       "      <td>[The route is located on the far southern shou...</td>\n",
       "      <td>[7 QD's]</td>\n",
       "      <td>105817198</td>\n",
       "      <td>105817201</td>\n",
       "      <td>5.11b/c</td>\n",
       "      <td>6c+</td>\n",
       "      <td>...</td>\n",
       "      <td>NaN</td>\n",
       "      <td>NaN</td>\n",
       "      <td>True</td>\n",
       "      <td>NaN</td>\n",
       "      <td>NaN</td>\n",
       "      <td>NaN</td>\n",
       "      <td>NaN</td>\n",
       "      <td>NaN</td>\n",
       "      <td>NaN</td>\n",
       "      <td>NaN</td>\n",
       "    </tr>\n",
       "    <tr>\n",
       "      <th>4</th>\n",
       "      <td>Wimovi Wonder Winos</td>\n",
       "      <td></td>\n",
       "      <td>Kroll and McHam</td>\n",
       "      <td>[Climb the most open looking slab on the more ...</td>\n",
       "      <td>[Upper right of the wall, more facing the road.]</td>\n",
       "      <td>[Bolts]</td>\n",
       "      <td>113627837</td>\n",
       "      <td>118979787</td>\n",
       "      <td>5.10-</td>\n",
       "      <td>6a</td>\n",
       "      <td>...</td>\n",
       "      <td>NaN</td>\n",
       "      <td>NaN</td>\n",
       "      <td>True</td>\n",
       "      <td>NaN</td>\n",
       "      <td>NaN</td>\n",
       "      <td>NaN</td>\n",
       "      <td>NaN</td>\n",
       "      <td>NaN</td>\n",
       "      <td>NaN</td>\n",
       "      <td>NaN</td>\n",
       "    </tr>\n",
       "    <tr>\n",
       "      <th>...</th>\n",
       "      <td>...</td>\n",
       "      <td>...</td>\n",
       "      <td>...</td>\n",
       "      <td>...</td>\n",
       "      <td>...</td>\n",
       "      <td>...</td>\n",
       "      <td>...</td>\n",
       "      <td>...</td>\n",
       "      <td>...</td>\n",
       "      <td>...</td>\n",
       "      <td>...</td>\n",
       "      <td>...</td>\n",
       "      <td>...</td>\n",
       "      <td>...</td>\n",
       "      <td>...</td>\n",
       "      <td>...</td>\n",
       "      <td>...</td>\n",
       "      <td>...</td>\n",
       "      <td>...</td>\n",
       "      <td>...</td>\n",
       "      <td>...</td>\n",
       "    </tr>\n",
       "    <tr>\n",
       "      <th>2743</th>\n",
       "      <td>F-104</td>\n",
       "      <td></td>\n",
       "      <td>unknown</td>\n",
       "      <td>[Well brushed steep slab at the lower corner o...</td>\n",
       "      <td>[The bottom corner of the west face.]</td>\n",
       "      <td>[5 bolts and gear, two bolt anchor for lowering.]</td>\n",
       "      <td>NaN</td>\n",
       "      <td>NaN</td>\n",
       "      <td>5.11b/c</td>\n",
       "      <td>6c+</td>\n",
       "      <td>...</td>\n",
       "      <td>NaN</td>\n",
       "      <td>NaN</td>\n",
       "      <td>NaN</td>\n",
       "      <td>NaN</td>\n",
       "      <td>NaN</td>\n",
       "      <td>NaN</td>\n",
       "      <td>NaN</td>\n",
       "      <td>NaN</td>\n",
       "      <td>NaN</td>\n",
       "      <td>NaN</td>\n",
       "    </tr>\n",
       "    <tr>\n",
       "      <th>2744</th>\n",
       "      <td>Echo Slab</td>\n",
       "      <td></td>\n",
       "      <td>unknown</td>\n",
       "      <td>[Friction slab up past a bolt. Gear through a ...</td>\n",
       "      <td>[From the main approach trail, when you hit th...</td>\n",
       "      <td>[One bolt. Then passive #2 BD cam, then red tr...</td>\n",
       "      <td>NaN</td>\n",
       "      <td>NaN</td>\n",
       "      <td>5.8</td>\n",
       "      <td>5b</td>\n",
       "      <td>...</td>\n",
       "      <td>NaN</td>\n",
       "      <td>NaN</td>\n",
       "      <td>NaN</td>\n",
       "      <td>NaN</td>\n",
       "      <td>NaN</td>\n",
       "      <td>NaN</td>\n",
       "      <td>NaN</td>\n",
       "      <td>NaN</td>\n",
       "      <td>NaN</td>\n",
       "      <td>NaN</td>\n",
       "    </tr>\n",
       "    <tr>\n",
       "      <th>2745</th>\n",
       "      <td>Dirty Boulevard</td>\n",
       "      <td></td>\n",
       "      <td>unknown</td>\n",
       "      <td>[Face climb to the right of Mom's Meatfloaf. S...</td>\n",
       "      <td>[Right of Mom's Meatloaf. See approach on Mom'...</td>\n",
       "      <td>[4 bolts, #2 TCU, bolted anchors.]</td>\n",
       "      <td>NaN</td>\n",
       "      <td>NaN</td>\n",
       "      <td>5.11a</td>\n",
       "      <td>6c</td>\n",
       "      <td>...</td>\n",
       "      <td>NaN</td>\n",
       "      <td>NaN</td>\n",
       "      <td>NaN</td>\n",
       "      <td>NaN</td>\n",
       "      <td>NaN</td>\n",
       "      <td>NaN</td>\n",
       "      <td>NaN</td>\n",
       "      <td>NaN</td>\n",
       "      <td>NaN</td>\n",
       "      <td>NaN</td>\n",
       "    </tr>\n",
       "    <tr>\n",
       "      <th>2746</th>\n",
       "      <td>Dime Store Mystery</td>\n",
       "      <td></td>\n",
       "      <td>unknown</td>\n",
       "      <td>[Start's left of Mom's Meatloaf. Climb bolted ...</td>\n",
       "      <td>[To the left of Mom's meatloaf. See beta for a...</td>\n",
       "      <td>[4 bolts, gear to 4\", bolted chain anchors.]</td>\n",
       "      <td>NaN</td>\n",
       "      <td>NaN</td>\n",
       "      <td>5.11a</td>\n",
       "      <td>6c</td>\n",
       "      <td>...</td>\n",
       "      <td>NaN</td>\n",
       "      <td>NaN</td>\n",
       "      <td>NaN</td>\n",
       "      <td>True</td>\n",
       "      <td>NaN</td>\n",
       "      <td>NaN</td>\n",
       "      <td>NaN</td>\n",
       "      <td>NaN</td>\n",
       "      <td>NaN</td>\n",
       "      <td>NaN</td>\n",
       "    </tr>\n",
       "    <tr>\n",
       "      <th>2747</th>\n",
       "      <td>Annie's Lament</td>\n",
       "      <td></td>\n",
       "      <td>unknown</td>\n",
       "      <td>[Begin on the distinct layback crack splitting...</td>\n",
       "      <td>[Walk around to the east shoulder slabs and be...</td>\n",
       "      <td>[Pitch 1: Gear to 4 inches...Tri-Cams, TCU's, ...</td>\n",
       "      <td>NaN</td>\n",
       "      <td>NaN</td>\n",
       "      <td>5.6</td>\n",
       "      <td>4c</td>\n",
       "      <td>...</td>\n",
       "      <td>NaN</td>\n",
       "      <td>NaN</td>\n",
       "      <td>NaN</td>\n",
       "      <td>NaN</td>\n",
       "      <td>NaN</td>\n",
       "      <td>NaN</td>\n",
       "      <td>NaN</td>\n",
       "      <td>NaN</td>\n",
       "      <td>NaN</td>\n",
       "      <td>NaN</td>\n",
       "    </tr>\n",
       "  </tbody>\n",
       "</table>\n",
       "<p>211123 rows × 31 columns</p>\n",
       "</div>"
      ],
      "text/plain": [
       "               route_name safety  \\\n",
       "0              Gravel Pit          \n",
       "1          Random Impulse          \n",
       "2           The Tick Wall          \n",
       "3            Orange Crush          \n",
       "4     Wimovi Wonder Winos          \n",
       "...                   ...    ...   \n",
       "2743                F-104          \n",
       "2744            Echo Slab          \n",
       "2745      Dirty Boulevard          \n",
       "2746   Dime Store Mystery          \n",
       "2747       Annie's Lament          \n",
       "\n",
       "                                                   fa  \\\n",
       "0              Jason Milford/ Matt Schutz Spring 2020   \n",
       "1                                        \"Unknown\" or   \n",
       "2                                        7, July 2020   \n",
       "3     Wade Griffith, Sterling Killion, Scott Williams   \n",
       "4                                     Kroll and McHam   \n",
       "...                                               ...   \n",
       "2743                                          unknown   \n",
       "2744                                          unknown   \n",
       "2745                                          unknown   \n",
       "2746                                          unknown   \n",
       "2747                                          unknown   \n",
       "\n",
       "                                            description  \\\n",
       "0     [Goes up slab on bolts to steep corner on gear...   \n",
       "1     [Some fun moves broken up by a few scree fille...   \n",
       "2     [Bouldering. Approximately 14’ tall and 20’ or...   \n",
       "3     [Pretty cool orange arete that sports some int...   \n",
       "4     [Climb the most open looking slab on the more ...   \n",
       "...                                                 ...   \n",
       "2743  [Well brushed steep slab at the lower corner o...   \n",
       "2744  [Friction slab up past a bolt. Gear through a ...   \n",
       "2745  [Face climb to the right of Mom's Meatfloaf. S...   \n",
       "2746  [Start's left of Mom's Meatloaf. Climb bolted ...   \n",
       "2747  [Begin on the distinct layback crack splitting...   \n",
       "\n",
       "                                               location  \\\n",
       "0                                                         \n",
       "1     [25 feet to the right of Deep Springs Education.]   \n",
       "2     [Park at Sycamore Creek bridge and walk upstre...   \n",
       "3     [The route is located on the far southern shou...   \n",
       "4      [Upper right of the wall, more facing the road.]   \n",
       "...                                                 ...   \n",
       "2743              [The bottom corner of the west face.]   \n",
       "2744  [From the main approach trail, when you hit th...   \n",
       "2745  [Right of Mom's Meatloaf. See approach on Mom'...   \n",
       "2746  [To the left of Mom's meatloaf. See beta for a...   \n",
       "2747  [Walk around to the east shoulder slabs and be...   \n",
       "\n",
       "                                             protection mp_sector_id  \\\n",
       "0     [Chains on top, can lower off easy. Pro to 3\" ...    119029240   \n",
       "1     [A small assortment of cams and maybe a nut or...    119100232   \n",
       "2                           [None. Bring your own pad.]    119181845   \n",
       "3                                              [7 QD's]    105817198   \n",
       "4                                               [Bolts]    113627837   \n",
       "...                                                 ...          ...   \n",
       "2743  [5 bolts and gear, two bolt anchor for lowering.]          NaN   \n",
       "2744  [One bolt. Then passive #2 BD cam, then red tr...          NaN   \n",
       "2745                 [4 bolts, #2 TCU, bolted anchors.]          NaN   \n",
       "2746       [4 bolts, gear to 4\", bolted chain anchors.]          NaN   \n",
       "2747  [Pitch 1: Gear to 4 inches...Tri-Cams, TCU's, ...          NaN   \n",
       "\n",
       "     mp_route_id grade.YDS grade.French  ... grade.Font type.boulder  \\\n",
       "0      119029258   5.12b/c          7b+  ...        NaN          NaN   \n",
       "1      119101118       5.7           5a  ...        NaN          NaN   \n",
       "2      119181945    V-easy          NaN  ...          3         True   \n",
       "3      105817201   5.11b/c          6c+  ...        NaN          NaN   \n",
       "4      118979787     5.10-           6a  ...        NaN          NaN   \n",
       "...          ...       ...          ...  ...        ...          ...   \n",
       "2743         NaN   5.11b/c          6c+  ...        NaN          NaN   \n",
       "2744         NaN       5.8           5b  ...        NaN          NaN   \n",
       "2745         NaN     5.11a           6c  ...        NaN          NaN   \n",
       "2746         NaN     5.11a           6c  ...        NaN          NaN   \n",
       "2747         NaN       5.6           4c  ...        NaN          NaN   \n",
       "\n",
       "     type.sport type.tr type.alpine grade.yds_aid type.aid type.snow  \\\n",
       "0           NaN     NaN         NaN           NaN      NaN       NaN   \n",
       "1           NaN     NaN         NaN           NaN      NaN       NaN   \n",
       "2           NaN     NaN         NaN           NaN      NaN       NaN   \n",
       "3          True     NaN         NaN           NaN      NaN       NaN   \n",
       "4          True     NaN         NaN           NaN      NaN       NaN   \n",
       "...         ...     ...         ...           ...      ...       ...   \n",
       "2743        NaN     NaN         NaN           NaN      NaN       NaN   \n",
       "2744        NaN     NaN         NaN           NaN      NaN       NaN   \n",
       "2745        NaN     NaN         NaN           NaN      NaN       NaN   \n",
       "2746        NaN    True         NaN           NaN      NaN       NaN   \n",
       "2747        NaN     NaN         NaN           NaN      NaN       NaN   \n",
       "\n",
       "     type.mixed type.ice  \n",
       "0           NaN      NaN  \n",
       "1           NaN      NaN  \n",
       "2           NaN      NaN  \n",
       "3           NaN      NaN  \n",
       "4           NaN      NaN  \n",
       "...         ...      ...  \n",
       "2743        NaN      NaN  \n",
       "2744        NaN      NaN  \n",
       "2745        NaN      NaN  \n",
       "2746        NaN      NaN  \n",
       "2747        NaN      NaN  \n",
       "\n",
       "[211123 rows x 31 columns]"
      ]
     },
     "execution_count": 18,
     "metadata": {},
     "output_type": "execute_result"
    }
   ],
   "source": [
    "#https://sundararamanp.medium.com/a-relatively-faster-approach-for-reading-json-lines-file-into-pandas-dataframe-90b57353fd38\n",
    "df_list = []\n",
    "for file in route_file_list:\n",
    "    with open(file, 'r') as f:\n",
    "        lines = f.read().splitlines()\n",
    "    df_inter = pd.DataFrame(lines)\n",
    "    df_inter.columns = ['json_element']\n",
    "    df_list.append(pd.json_normalize(df_inter['json_element'].apply(json.loads)))\n",
    "\n",
    "df_final = pd.concat(df_list)"
   ]
  },
  {
   "cell_type": "code",
   "execution_count": 19,
   "id": "f41a4bcc",
   "metadata": {},
   "outputs": [
    {
     "name": "stdout",
     "output_type": "stream",
     "text": [
      "<class 'pandas.core.frame.DataFrame'>\n",
      "Int64Index: 211123 entries, 0 to 2747\n",
      "Data columns (total 31 columns):\n",
      " #   Column                   Non-Null Count   Dtype \n",
      "---  ------                   --------------   ----- \n",
      " 0   route_name               211123 non-null  object\n",
      " 1   safety                   211123 non-null  object\n",
      " 2   fa                       211123 non-null  object\n",
      " 3   description              211123 non-null  object\n",
      " 4   location                 211123 non-null  object\n",
      " 5   protection               211123 non-null  object\n",
      " 6   mp_sector_id             36604 non-null   object\n",
      " 7   mp_route_id              36604 non-null   object\n",
      " 8   grade.YDS                206795 non-null  object\n",
      " 9   grade.French             130665 non-null  object\n",
      " 10  grade.Ewbanks            130665 non-null  object\n",
      " 11  grade.UIAA               130665 non-null  object\n",
      " 12  grade.ZA                 130665 non-null  object\n",
      " 13  grade.British            130665 non-null  object\n",
      " 14  type.trad                63514 non-null   object\n",
      " 15  metadata.left_right_seq  211123 non-null  object\n",
      " 16  metadata.parent_lnglat   211123 non-null  object\n",
      " 17  metadata.parent_sector   211123 non-null  object\n",
      " 18  metadata.mp_route_id     211123 non-null  object\n",
      " 19  metadata.mp_sector_id    211123 non-null  object\n",
      " 20  metadata.mp_path         211123 non-null  object\n",
      " 21  grade.Font               76130 non-null   object\n",
      " 22  type.boulder             77130 non-null   object\n",
      " 23  type.sport               63468 non-null   object\n",
      " 24  type.tr                  20224 non-null   object\n",
      " 25  type.alpine              7096 non-null    object\n",
      " 26  grade.yds_aid            1734 non-null    object\n",
      " 27  type.aid                 1734 non-null    object\n",
      " 28  type.snow                698 non-null     object\n",
      " 29  type.mixed               1392 non-null    object\n",
      " 30  type.ice                 3353 non-null    object\n",
      "dtypes: object(31)\n",
      "memory usage: 51.5+ MB\n"
     ]
    }
   ],
   "source": [
    "df_final.info()"
   ]
  },
  {
   "cell_type": "markdown",
   "id": "f17a3e64",
   "metadata": {},
   "source": [
    "### Drop Unnecessary Rows/Columns"
   ]
  },
  {
   "cell_type": "code",
   "execution_count": null,
   "id": "00bbb683",
   "metadata": {},
   "outputs": [],
   "source": [
    "#slice to get rid of bouldering routes - wrong grading system\n",
    "df_final = df_final[df_final['type.boulder'].isna()].drop(columns=['type.boulder'])"
   ]
  },
  {
   "cell_type": "code",
   "execution_count": 45,
   "id": "7f234f42",
   "metadata": {},
   "outputs": [],
   "source": [
    "#slice to get rid of aid routes - wrong grading system\n",
    "df_final = df_final[df_final['grade.yds_aid'].isna()]"
   ]
  },
  {
   "cell_type": "code",
   "execution_count": 43,
   "id": "bd3bbae1",
   "metadata": {},
   "outputs": [
    {
     "data": {
      "text/plain": [
       "route_name                      0\n",
       "safety                          0\n",
       "fa                              0\n",
       "description                     0\n",
       "location                        0\n",
       "protection                      0\n",
       "mp_sector_id               110089\n",
       "mp_route_id                110089\n",
       "grade.YDS                    4328\n",
       "grade.French                 4328\n",
       "grade.Ewbanks                4328\n",
       "grade.UIAA                   4328\n",
       "grade.ZA                     4328\n",
       "grade.British                4328\n",
       "type.trad                   70931\n",
       "metadata.left_right_seq         0\n",
       "metadata.parent_lnglat          0\n",
       "metadata.parent_sector          0\n",
       "metadata.mp_route_id            0\n",
       "metadata.mp_sector_id           0\n",
       "metadata.mp_path                0\n",
       "grade.Font                 133993\n",
       "type.sport                  70627\n",
       "type.tr                    114457\n",
       "type.alpine                128061\n",
       "grade.yds_aid              132274\n",
       "type.aid                   132274\n",
       "type.snow                  133306\n",
       "type.mixed                 132612\n",
       "type.ice                   130651\n",
       "dtype: int64"
      ]
     },
     "execution_count": 43,
     "metadata": {},
     "output_type": "execute_result"
    }
   ],
   "source": [
    "df_final.isna().sum()"
   ]
  },
  {
   "cell_type": "markdown",
   "id": "83fec5f4",
   "metadata": {},
   "source": [
    "A lot of this information can be dropped. I would be tempted to use the threshold parameter of dropna, but there are a number of columns with many null values that still need to be explored simply because the route type likely has a large affect on the grade. Columns to drop:\n",
    "- mp_sector_id: Missing for many rows, and the full sector ids are stored in the metadata.mp_sector_id\n",
    "- mp_route_id: Same story as sector id\n",
    "- any grade not grade.YDS: these grades all have a direct mapping, and YDS is the one we'll be working in\n",
    "- metadata.left_right_seq: this tells if the routes are listed from left to right on the area page.\n",
    "\n",
    "The more esoteric type columns, such as aid, snow, mixed, and ice will likely be dropped, as well as alpine and potentially tr (top rope). I would like to explore those in the more formal EDA though."
   ]
  },
  {
   "cell_type": "code",
   "execution_count": 48,
   "id": "dd19d6c5",
   "metadata": {},
   "outputs": [],
   "source": [
    "cols_to_drop = [x for x in df_final.columns if \"grade\" in x and not \"YDS\" in x]\n",
    "cols_to_drop.extend(['mp_route_id', 'mp_sector_id', 'metadata.left_right_seq'])\n",
    "df_final = df_final.drop(columns=cols_to_drop)"
   ]
  },
  {
   "cell_type": "markdown",
   "id": "59f441cd",
   "metadata": {},
   "source": [
    "### Clean up Column Dtypes\n",
    "Next I would like to amend the dtypes of the columns. The NLP features are in lists, which would be better as just the strings those lists contain. The type indicator columns should be one hot encoded rather than having nans. The rest are already strings and can remain that way for now."
   ]
  },
  {
   "cell_type": "code",
   "execution_count": 50,
   "id": "5eec2301",
   "metadata": {},
   "outputs": [
    {
     "name": "stdout",
     "output_type": "stream",
     "text": [
      "route_name dtype: <class 'str'>\n",
      "safety dtype: <class 'str'>\n",
      "fa dtype: <class 'str'>\n",
      "description dtype: <class 'list'>\n",
      "location dtype: <class 'list'>\n",
      "protection dtype: <class 'list'>\n",
      "grade.YDS dtype: <class 'str'>\n",
      "type.trad dtype: <class 'bool'>\n",
      "metadata.parent_lnglat dtype: <class 'list'>\n",
      "metadata.parent_sector dtype: <class 'str'>\n",
      "metadata.mp_route_id dtype: <class 'str'>\n",
      "metadata.mp_sector_id dtype: <class 'str'>\n",
      "metadata.mp_path dtype: <class 'str'>\n",
      "type.sport dtype: <class 'float'>\n",
      "type.tr dtype: <class 'float'>\n",
      "type.alpine dtype: <class 'float'>\n",
      "type.aid dtype: <class 'float'>\n",
      "type.snow dtype: <class 'float'>\n",
      "type.mixed dtype: <class 'float'>\n",
      "type.ice dtype: <class 'float'>\n"
     ]
    }
   ],
   "source": [
    "for col in df_final.columns:\n",
    "    print(f\"{col} dtype: {type(df_final.loc[1, col])}\")"
   ]
  },
  {
   "cell_type": "code",
   "execution_count": null,
   "id": "0150694a",
   "metadata": {},
   "outputs": [],
   "source": [
    "type_cols = [x for x in df_final.columns if \"type\" in x]\n",
    "for col in type_cols:\n",
    "    df_final[col] = df_final[col].apply(lambda x: 0 if type(x) != 'str' and np.isnan(x) else 1)"
   ]
  },
  {
   "cell_type": "code",
   "execution_count": 69,
   "id": "a150540a",
   "metadata": {},
   "outputs": [],
   "source": [
    "nlp_cols = ['description', 'location', 'protection']\n",
    "for col in nlp_cols:\n",
    "    df_final[col] = df_final[col].apply(lambda x: \" \".join(x))"
   ]
  },
  {
   "cell_type": "code",
   "execution_count": 70,
   "id": "753e0548",
   "metadata": {},
   "outputs": [
    {
     "name": "stdout",
     "output_type": "stream",
     "text": [
      "route_name dtype: <class 'str'>\n",
      "safety dtype: <class 'str'>\n",
      "fa dtype: <class 'str'>\n",
      "description dtype: <class 'str'>\n",
      "location dtype: <class 'str'>\n",
      "protection dtype: <class 'str'>\n",
      "grade.YDS dtype: <class 'str'>\n",
      "type.trad dtype: <class 'numpy.int64'>\n",
      "metadata.parent_lnglat dtype: <class 'list'>\n",
      "metadata.parent_sector dtype: <class 'str'>\n",
      "metadata.mp_route_id dtype: <class 'str'>\n",
      "metadata.mp_sector_id dtype: <class 'str'>\n",
      "metadata.mp_path dtype: <class 'str'>\n",
      "type.sport dtype: <class 'numpy.int64'>\n",
      "type.tr dtype: <class 'numpy.int64'>\n",
      "type.alpine dtype: <class 'numpy.int64'>\n",
      "type.aid dtype: <class 'numpy.int64'>\n",
      "type.snow dtype: <class 'numpy.int64'>\n",
      "type.mixed dtype: <class 'numpy.int64'>\n",
      "type.ice dtype: <class 'numpy.int64'>\n"
     ]
    }
   ],
   "source": [
    "for col in df_final.columns:\n",
    "    print(f\"{col} dtype: {type(df_final.loc[1, col])}\")"
   ]
  },
  {
   "cell_type": "markdown",
   "id": "fa60676e",
   "metadata": {},
   "source": [
    "### Transforming YDS Grades\n",
    "To compare grades, we need to do some processing to make the grades more computationally legible. There are a few components to the grades ([adapted with help from this article](https://www.sportrock.com/post/understanding-climbing-grades)):\n",
    "- Class: 5\n",
    "    - The class indicates the difficulty of the terrain, with 1 being flat land. While 4th class terrain may require ropes, all climbs are at least 5th class.\n",
    "- Difficulty: .0-.15\n",
    "    - Most true climbing starts at a grade of 5.4 or 5.5, with lower grades being seen mostly as scrambles.\n",
    "- Letter: a-d\n",
    "    - The letter grade indicates the sub-difficulty of the climb within the number difficulty. Letter grades are only used for 5.10 climbs and up. This is how we distinguish between easy and hard climbs within a grade that do not quite fall into the neighboring grades.\n",
    "- +/-:\n",
    "    - The + and - after the grade are similar to the letter system, but less precise. These may be used on any grade of climb, and are never used in conjunction with letters. A + on older routes (think pre-1980) can often be construed to mean that the real feel of the route is much more difficult than the given grade. In general, a + can be thought of as similar to the letter grade c/d, and a - can be thought of as similar to the letter grade a/b\n",
    "- Risk Rating: PG, PG13, R, X\n",
    "    - This conveys how run out a route is, and the true physical danger of the route if the lead climber were to take a fall. A climb with an X risk rating is a climb you -do not- want to whip on."
   ]
  },
  {
   "cell_type": "code",
   "execution_count": 96,
   "id": "5703e2be",
   "metadata": {},
   "outputs": [],
   "source": [
    "def parse_grade(yds):\n",
    "    '''\n",
    "    Takes in a YDS rating with no risk rating or extra text and returns that rating as a decimal\n",
    "    Valid ratings take the form \"5.(9-15)(a-d | a/b, b/c, c/d)(+-)\"\n",
    "    This function does not take into account + and -, opting to hold those as a separate predictive feature\n",
    "    '''\n",
    "    #remove +/-\n",
    "    if yds[-1] in \"+-\":\n",
    "        yds = yds[:-1]\n",
    "    \n",
    "    #reduce to difficulty grade, the 5. is not informational\n",
    "    yds = yds.split(\".\")[1]\n",
    "    \n",
    "    #take care of split letter grades\n",
    "    if \"/\" in yds:\n",
    "        slashes = {\n",
    "            \"a/b\" : .25,\n",
    "            \"b/c\" : .5,\n",
    "            \"c/d\" : .75\n",
    "        }\n",
    "        return int(yds[:-3]) + slashes[yds[-3:]]\n",
    "    \n",
    "    #take care of further letter grades\n",
    "    if yds[-1] in 'abcd':\n",
    "        letters = {\n",
    "            \"a\" : .2,\n",
    "            \"b\" : .4,\n",
    "            \"c\" : .6,\n",
    "            \"d\" : .8\n",
    "        }\n",
    "        return int(yds[:-1]) + letters[yds[-1]]\n",
    "    \n",
    "    #no letter grades, return base grade\n",
    "    return int(yds)"
   ]
  },
  {
   "cell_type": "code",
   "execution_count": 98,
   "id": "fe80254f",
   "metadata": {},
   "outputs": [],
   "source": [
    "#narrow down to only 5th class routes\n",
    "df_final = df_final[(df_final['grade.YDS'].notna()) & (df_final['grade.YDS'].str.contains(\"5\\.\"))]"
   ]
  },
  {
   "cell_type": "code",
   "execution_count": 99,
   "id": "dbd4b9dd",
   "metadata": {},
   "outputs": [
    {
     "data": {
      "text/plain": [
       "0         5.12b/c\n",
       "1             5.7\n",
       "2         5.11b/c\n",
       "3           5.10-\n",
       "4           5.10-\n",
       "           ...   \n",
       "133988    5.11b/c\n",
       "133989        5.8\n",
       "133990      5.11a\n",
       "133991      5.11a\n",
       "133992        5.6\n",
       "Name: grade.YDS, Length: 127513, dtype: object"
      ]
     },
     "execution_count": 99,
     "metadata": {},
     "output_type": "execute_result"
    }
   ],
   "source": [
    "df_final['grade.YDS']"
   ]
  },
  {
   "cell_type": "code",
   "execution_count": 101,
   "id": "e390871e",
   "metadata": {},
   "outputs": [],
   "source": [
    "df_final.loc[:, 'grade_numeric'] = df_final['grade.YDS'].apply(parse_grade)"
   ]
  },
  {
   "cell_type": "code",
   "execution_count": 106,
   "id": "812e62d1",
   "metadata": {},
   "outputs": [],
   "source": [
    "#create plus, minus, and plus_minus secondary target columns - not sure which version to use\n",
    "df_final.loc[:, 'plus'] = df_final['grade.YDS'].apply(lambda x: 1 if x[-1] == '+' else 0) \n",
    "df_final.loc[:, 'minus'] = df_final['grade.YDS'].apply(lambda x: 1 if x[-1] == '-' else 0)\n",
    "df_final.loc[:, 'plus_minus'] = df_final[\"grade.YDS\"].apply(lambda x: 1 if x[-1] == '+' else (-1 if x[-1] == '-' else 0))\n"
   ]
  },
  {
   "cell_type": "code",
   "execution_count": 107,
   "id": "30439c0f",
   "metadata": {},
   "outputs": [],
   "source": [
    "def parse_grade_plus_minus(yds):\n",
    "    '''\n",
    "    Takes in a YDS rating with no risk rating or extra text and returns that rating as a decimal\n",
    "    Valid ratings take the form \"5.(9-15)(a-d | a/b, b/c, c/d)(+-)\"\n",
    "    This function takes into account + and -, treating them like a/b and c/d\n",
    "    '''\n",
    "    plus_minus_map = {'+': 'c/d',\n",
    "                      '-': 'a/b'}\n",
    "    #map +/- to letter\n",
    "    if yds[-1] in \"+-\":\n",
    "        yds = yds[:-1] + plus_minus_map[yds[-1]]\n",
    "        \n",
    "    \n",
    "    #reduce to difficulty grade, the 5. is not informational\n",
    "    yds = yds.split(\".\")[1]\n",
    "    \n",
    "    #take care of split letter grades\n",
    "    if \"/\" in yds:\n",
    "        slashes = {\n",
    "            \"a/b\" : .25,\n",
    "            \"b/c\" : .5,\n",
    "            \"c/d\" : .75\n",
    "        }\n",
    "        return int(yds[:-3]) + slashes[yds[-3:]]\n",
    "    \n",
    "    #take care of further letter grades\n",
    "    if yds[-1] in 'abcd':\n",
    "        letters = {\n",
    "            \"a\" : .2,\n",
    "            \"b\" : .4,\n",
    "            \"c\" : .6,\n",
    "            \"d\" : .8\n",
    "        }\n",
    "        return int(yds[:-1]) + letters[yds[-1]]\n",
    "    \n",
    "    #no letter grades, return base grade\n",
    "    return int(yds)"
   ]
  },
  {
   "cell_type": "code",
   "execution_count": 108,
   "id": "ba493961",
   "metadata": {},
   "outputs": [],
   "source": [
    "df_final.loc[:, 'grade_numeric_plus_minus'] = df_final['grade.YDS'].apply(parse_grade_plus_minus)"
   ]
  },
  {
   "cell_type": "markdown",
   "id": "70803711",
   "metadata": {},
   "source": [
    "### Pulling Year out of FA\n",
    "Currently the FA (first ascent, or establishment team of the route) is stored as a freeform string, although generally the names of the first ascentionists is listed first, followed by the year. There is also sometimes the FFA, or First Female Ascent. Because there are so many possible unique first ascentionists (not even including FA teams) my first goal is to pull out the year, and potentially pull out names later if I think it will truly help the model. For FA to be more useful, I believe that a smaller subset of known route establishers would have to be compiled, using deeper subject-area knowledge than I have."
   ]
  },
  {
   "cell_type": "code",
   "execution_count": 109,
   "id": "b20b7317",
   "metadata": {},
   "outputs": [
    {
     "data": {
      "text/plain": [
       "0             Jason Milford/ Matt Schutz Spring 2020\n",
       "1                                       \"Unknown\" or\n",
       "2    Wade Griffith, Sterling Killion, Scott Williams\n",
       "3                                    Kroll and McHam\n",
       "4                                      Bryan Carroll\n",
       "Name: fa, dtype: object"
      ]
     },
     "execution_count": 109,
     "metadata": {},
     "output_type": "execute_result"
    }
   ],
   "source": [
    "df_final['fa'].head()"
   ]
  },
  {
   "cell_type": "code",
   "execution_count": 111,
   "id": "d8217ee7",
   "metadata": {},
   "outputs": [],
   "source": [
    "#https://stackoverflow.com/questions/3276180/extracting-date-from-a-string-in-python\n",
    "def extract_year(fa_string):\n",
    "    matches = list(datefinder.find_dates(fa_string))\n",
    "\n",
    "    if matches:\n",
    "        # date returned will be a datetime.datetime object. here we are only using the first match.\n",
    "        date = matches[0]\n",
    "        year = date.year\n",
    "        return year\n",
    "    \n",
    "    return np.nan\n",
    "\n",
    "df_final.loc[:, 'year_established'] = df_final['fa'].apply(extract_year)"
   ]
  },
  {
   "cell_type": "code",
   "execution_count": 113,
   "id": "930767e1",
   "metadata": {},
   "outputs": [
    {
     "data": {
      "text/plain": [
       "22533"
      ]
     },
     "execution_count": 113,
     "metadata": {},
     "output_type": "execute_result"
    }
   ],
   "source": [
    "df_final['year_established'].notna().sum()"
   ]
  },
  {
   "cell_type": "code",
   "execution_count": 112,
   "id": "a6ade717",
   "metadata": {},
   "outputs": [
    {
     "data": {
      "text/plain": [
       "0   NaN\n",
       "1   NaN\n",
       "2   NaN\n",
       "3   NaN\n",
       "4   NaN\n",
       "Name: year_established, dtype: float64"
      ]
     },
     "execution_count": 112,
     "metadata": {},
     "output_type": "execute_result"
    }
   ],
   "source": [
    "df_final['year_established'].head()"
   ]
  },
  {
   "cell_type": "markdown",
   "id": "9a8429b5",
   "metadata": {},
   "source": [
    "A quick visual inspection shows that this captured many years, but I do see an example where there is a standalone year in row 0 that did not get captured. I will get this one with regex."
   ]
  },
  {
   "cell_type": "code",
   "execution_count": 114,
   "id": "9a341d0e",
   "metadata": {},
   "outputs": [],
   "source": [
    "def regex_year(fa_string, year_established):\n",
    "    if year_established and not np.isnan(year_established):\n",
    "        return year_established\n",
    "    match = re.search(r'\\d{4}', fa_string)\n",
    "    if match:\n",
    "        year = match.group()\n",
    "        return int(year)\n",
    "    return np.nan\n",
    "\n",
    "df_final.loc[:, 'year_established'] = df_final.apply(lambda x: regex_year(x['fa'], x['year_established']), axis=1)"
   ]
  },
  {
   "cell_type": "code",
   "execution_count": 119,
   "id": "f26fb110",
   "metadata": {},
   "outputs": [
    {
     "data": {
      "text/plain": [
       "44041"
      ]
     },
     "execution_count": 119,
     "metadata": {},
     "output_type": "execute_result"
    }
   ],
   "source": [
    "df_final['year_established'].notna().sum()"
   ]
  },
  {
   "cell_type": "code",
   "execution_count": 117,
   "id": "7d9d9db5",
   "metadata": {},
   "outputs": [
    {
     "data": {
      "text/plain": [
       "0    2020.0\n",
       "1       NaN\n",
       "2       NaN\n",
       "3       NaN\n",
       "4       NaN\n",
       "Name: year_established, dtype: float64"
      ]
     },
     "execution_count": 117,
     "metadata": {},
     "output_type": "execute_result"
    }
   ],
   "source": [
    "df_final['year_established'].head()"
   ]
  },
  {
   "cell_type": "markdown",
   "id": "e0d45c9e",
   "metadata": {},
   "source": [
    "Now we have all the standalone years captured as well! Although only about a third of the rows had the year established available, this is still potentially a feature for modeling. "
   ]
  },
  {
   "cell_type": "code",
   "execution_count": 120,
   "id": "5fbeb6b6",
   "metadata": {},
   "outputs": [],
   "source": [
    "#final save to csv\n",
    "df_final.to_csv(\"./data/routes.csv\", index=False)"
   ]
  },
  {
   "cell_type": "code",
   "execution_count": null,
   "id": "33fc8168",
   "metadata": {},
   "outputs": [],
   "source": []
  }
 ],
 "metadata": {
  "kernelspec": {
   "display_name": "Python [conda env:dsi]",
   "language": "python",
   "name": "conda-env-dsi-py"
  },
  "language_info": {
   "codemirror_mode": {
    "name": "ipython",
    "version": 3
   },
   "file_extension": ".py",
   "mimetype": "text/x-python",
   "name": "python",
   "nbconvert_exporter": "python",
   "pygments_lexer": "ipython3",
   "version": "3.9.7"
  }
 },
 "nbformat": 4,
 "nbformat_minor": 5
}
