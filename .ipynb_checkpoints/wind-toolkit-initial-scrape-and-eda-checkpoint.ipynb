{
 "cells": [
  {
   "cell_type": "markdown",
   "id": "779546c0-6631-46b5-8566-0c4a12ec3c5b",
   "metadata": {},
   "source": [
    "# Dataset Collection for Problem Evaluation and Initial EDA\n",
    "\n",
    "Data for this project is accessed using the NREL WIND toolkit. For an initial run, I am going to scrape a dataset for a single point near Silverton, CO. The San Juan Mountains are a huge destination for backcountry travelers, so evaluating that the project works well at this data point will be a good indicator.\n"
   ]
  },
  {
   "cell_type": "code",
   "execution_count": 33,
   "id": "9abb4235-f635-44f2-b966-785a1b6d17eb",
   "metadata": {},
   "outputs": [],
   "source": [
    "import pandas as pd\n",
    "import numpy as np\n",
    "import requests\n",
    "#paradise location (37.6058634, -107.8301071)\n",
    "#,windspeed_10m,windspeed_40m,winddirection_10m,winddirection_40m,temperature_10m,temperature_40m\n",
    "json = requests.get('https://developer.nrel.gov/api/wind-toolkit/v2/wind/wtk-download.json?api_key=7Bq8WQ350EDj4Ez59AURWgOUTnLiJ1N6YWPPfhZH&wkt=POINT(40.109071 -105.335683)&attributes=precipitationrate_0m,windspeed_10m,windspeed_40m,winddirection_10m,winddirection_40m,temperature_10m,temperature_40m&names=2009&email=anastasia.m.lincoln@gmail.com')\n"
   ]
  },
  {
   "cell_type": "code",
   "execution_count": 34,
   "id": "9744e0cc-745a-45e6-8fba-a2e965d33088",
   "metadata": {},
   "outputs": [
    {
     "data": {
      "text/plain": [
       "{'inputs': {'body': {},\n",
       "  'params': {},\n",
       "  'query': {'wkt': 'POINT(40.109071 -105.335683)',\n",
       "   'attributes': 'precipitationrate_0m,windspeed_10m,windspeed_40m,winddirection_10m,winddirection_40m,temperature_10m,temperature_40m',\n",
       "   'names': '2009',\n",
       "   'email': 'anastasia.m.lincoln@gmail.com'}},\n",
       " 'metadata': {'version': '2.0.0'},\n",
       " 'status': 400,\n",
       " 'errors': ['No data available at the provided location',\n",
       "  'Data processing failure.']}"
      ]
     },
     "execution_count": 34,
     "metadata": {},
     "output_type": "execute_result"
    }
   ],
   "source": [
    "json.json()"
   ]
  },
  {
   "cell_type": "code",
   "execution_count": 25,
   "id": "818fe6c2-4129-4f82-87e6-ca575e250d18",
   "metadata": {},
   "outputs": [
    {
     "data": {
      "text/plain": [
       "{'inputs': {'body': {},\n",
       "  'params': {},\n",
       "  'query': {'wkt': 'POINT(-78.483215 32.104233)'}},\n",
       " 'metadata': {'version': '2.0.0', 'resultset': {'count': 1}},\n",
       " 'status': 200,\n",
       " 'outputs': {'us-atlantic-virtual-buoy': 0,\n",
       "  'offshore-ca': 0,\n",
       "  'vietnam-wtk': 0,\n",
       "  'offshore-mid-atlantic': 0,\n",
       "  'philippines': 0,\n",
       "  'mexico-wtk': 0,\n",
       "  'msg-iodc': 0,\n",
       "  'offshore-great-lakes': 0,\n",
       "  'offshore-hawaii': 0,\n",
       "  'offshore-nw-pacific': 0,\n",
       "  'himawari7': 0,\n",
       "  'himawari': 0,\n",
       "  'india-wind': 0,\n",
       "  'us-west-coast-virtual-buoy': 0,\n",
       "  'himawari-tmy': 0,\n",
       "  'us-west-coast-hindcast': 0,\n",
       "  'puerto-rico': 0,\n",
       "  'full-disc': 0,\n",
       "  'psm3': 0,\n",
       "  'philippines-wtk': 0,\n",
       "  'spectral-india-tmy': 0,\n",
       "  'psm3-tmy': 0,\n",
       "  'suny-india-tmy': 0,\n",
       "  'spectral-ondemand': 0,\n",
       "  'psm3-5min': 0,\n",
       "  'suny-india': 0,\n",
       "  'vietnam': 0,\n",
       "  'us-atlantic-hindcast': 1,\n",
       "  'central-asia-wind': 0,\n",
       "  'hawaii-hindcast': 0,\n",
       "  'wtk': 1,\n",
       "  'wtk-srw': 1,\n",
       "  'alaska-hindcast': 0},\n",
       " 'errors': []}"
      ]
     },
     "execution_count": 25,
     "metadata": {},
     "output_type": "execute_result"
    }
   ],
   "source": [
    "#test site count\n",
    "res = requests.get('https://developer.nrel.gov/api/wind-toolkit/v2/site-count.json?api_key=7Bq8WQ350EDj4Ez59AURWgOUTnLiJ1N6YWPPfhZH&wkt=POINT(-78.483215 32.104233)')\n",
    "res.json()"
   ]
  },
  {
   "cell_type": "code",
   "execution_count": null,
   "id": "aefe39a3-8bd5-4dfd-83e4-fc33b29cde9e",
   "metadata": {},
   "outputs": [],
   "source": []
  }
 ],
 "metadata": {
  "kernelspec": {
   "display_name": "Python [conda env:dsi]",
   "language": "python",
   "name": "conda-env-dsi-py"
  },
  "language_info": {
   "codemirror_mode": {
    "name": "ipython",
    "version": 3
   },
   "file_extension": ".py",
   "mimetype": "text/x-python",
   "name": "python",
   "nbconvert_exporter": "python",
   "pygments_lexer": "ipython3",
   "version": "3.9.7"
  }
 },
 "nbformat": 4,
 "nbformat_minor": 5
}
