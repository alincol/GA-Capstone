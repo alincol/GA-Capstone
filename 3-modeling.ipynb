{
 "cells": [
  {
   "cell_type": "markdown",
   "id": "d092c7f6-2dc7-44a5-a845-f7663b4d2248",
   "metadata": {},
   "source": [
    "# Modeling\n",
    "Iterative modeling for predicting grade. Due to the small amount of training data, we will be predicting "
   ]
  },
  {
   "cell_type": "markdown",
   "id": "5acd21ac-8312-42b3-80e2-83c3e597df41",
   "metadata": {
    "tags": []
   },
   "source": [
    "### Ordinal Classification Methods\n",
    "##### Reduce to Binary Classifiers:\n",
    "[Create a custom Ordinal Classifier Class](https://towardsdatascience.com/simple-trick-to-train-an-ordinal-regression-with-any-classifier-6911183d2a3c)\n",
    "- Pr(y=1) = 1-Pr(Target > 1)\n",
    "- Pr(y=2) = Pr(Target>1)-P(Target > 2)\n",
    "- Pr(y=3) = Pr(Target>2)-P(Target > 3)\n",
    "- Pr(y=4) = Pr(Target>3)-P(Target > 4)\n",
    "- Pr(y=5) = Pr(Target>4)\n",
    "\n",
    "Choose the Max of these 5 equations (many more in our case). Can use any binary classifier.\n",
    "\n",
    "##### Mord Implementations\n",
    "Would take more research to choose the best of [these](https://pythonhosted.org/mord/reference.html#mord.LogisticAT)\n",
    "[more about mord](https://fa.bianp.net/blog/2013/logistic-ordinal-regression/)\n",
    "\n",
    "##### Statsmodels Implementations\n",
    "Probably the best for out-of-the-box, choose between probit and logit. Does not require a constant [statsmodels page](https://www.statsmodels.org/stable/examples/notebooks/generated/ordinal_regression.html) \n",
    "\n",
    "##### [Statsmodels Walkthrough](https://analyticsindiamag.com/a-complete-tutorial-on-ordinal-regression-in-python/)\n",
    "Make the target column actually ordinal:\n",
    "```from pandas.api.types import CategoricalDtype\n",
    "cat_type = CategoricalDtype(categories=['Fair', 'Good', 'Ideal', 'Very Good', 'Premium'], ordered=True)\n",
    "data_diam[\"cut\"] = data_diam[\"cut\"].astype(cat_type)```\n",
    "They try the probit and logit OrderedModel from statsmodels"
   ]
  },
  {
   "cell_type": "code",
   "execution_count": null,
   "id": "1618ce61-98ec-436a-a051-10d2034a4fc6",
   "metadata": {},
   "outputs": [],
   "source": [
    "import pandas as pd\n",
    "import numpy as np\n",
    "import scipy.stats as stats\n",
    "\n",
    "from sklearn.feature_extraction.text import TfidfVectorizer\n",
    "from statsmodels.miscmodels.ordinal_model import OrderedModel"
   ]
  },
  {
   "cell_type": "code",
   "execution_count": null,
   "id": "1f63f8cd-7c92-451a-98f6-77d1dc080206",
   "metadata": {},
   "outputs": [],
   "source": [
    "#load in data\n",
    "train = pd.read_csv(\"./data/train.csv\")\n",
    "val = pd.read_csv(\"./data/val.csv\")\n",
    "test = pd.read_csv(\"./data/test.csv\")"
   ]
  },
  {
   "cell_type": "code",
   "execution_count": null,
   "id": "4bfb308e-05bc-49bf-b46d-a4730959cdd1",
   "metadata": {},
   "outputs": [],
   "source": [
    "#change type of target column to ordinal - https://analyticsindiamag.com/a-complete-tutorial-on-ordinal-regression-in-python/\n",
    "cat_type = pd.CategoricalDtype(categories=range(16), ordered=True)\n",
    "\n",
    "for df in (train, val, test):\n",
    "    df['grade_reduced'] = df['grade_reduced'].astype(cat_type)"
   ]
  },
  {
   "cell_type": "code",
   "execution_count": null,
   "id": "4d2a0425-3b88-4e54-9af6-05a1ea4a3da2",
   "metadata": {},
   "outputs": [],
   "source": [
    "#make word matrices for modeling\n",
    "tfidf = TfidfVectorizer(min_df=10)\n",
    "train_vals = pd.DataFrame(tfidf.fit_transform(train['lemmatized_text_combined']).todense(), columns=tfidf.get_feature_names_out())\n",
    "val_vals = pd.DataFrame(tfidf.fit_transform(val['lemmatized_text_combined']).todense(), columns=tfidf.get_feature_names_out())\n",
    "test_vals = pd.DataFrame(tfidf.fit_transform(test['lemmatized_text_combined']).todense(), columns=tfidf.get_feature_names_out())"
   ]
  },
  {
   "cell_type": "code",
   "execution_count": null,
   "id": "bebedcb5-2bba-4792-8800-8df38637c570",
   "metadata": {},
   "outputs": [],
   "source": [
    "model = OrderedModel(train['grade_reduced'], train_vals)"
   ]
  },
  {
   "cell_type": "code",
   "execution_count": null,
   "id": "dddef90e-eaaa-4b98-b7ba-f2d7491119df",
   "metadata": {},
   "outputs": [
    {
     "name": "stdout",
     "output_type": "stream",
     "text": [
      "RUNNING THE L-BFGS-B CODE\n",
      "\n",
      "           * * *\n",
      "\n",
      "Machine precision = 2.220D-16\n",
      " N =         9017     M =           10\n",
      "\n",
      "At X0         0 variables are exactly at the bounds\n",
      "\n",
      "At iterate    0    f=  2.07198D+00    |proj g|=  1.52899D-02\n"
     ]
    },
    {
     "name": "stderr",
     "output_type": "stream",
     "text": [
      " This problem is unconstrained.\n"
     ]
    },
    {
     "name": "stdout",
     "output_type": "stream",
     "text": [
      "\n",
      "At iterate    1    f=  2.02950D+00    |proj g|=  1.21633D-02\n"
     ]
    }
   ],
   "source": [
    "res = model.fit(method='lbfgs')\n",
    "res.summary()"
   ]
  },
  {
   "cell_type": "code",
   "execution_count": null,
   "id": "68ff8fc0-c645-497d-9630-84c4faf263ad",
   "metadata": {},
   "outputs": [],
   "source": []
  }
 ],
 "metadata": {
  "kernelspec": {
   "display_name": "Python [conda env:dsi]",
   "language": "python",
   "name": "conda-env-dsi-py"
  },
  "language_info": {
   "codemirror_mode": {
    "name": "ipython",
    "version": 3
   },
   "file_extension": ".py",
   "mimetype": "text/x-python",
   "name": "python",
   "nbconvert_exporter": "python",
   "pygments_lexer": "ipython3",
   "version": "3.9.7"
  }
 },
 "nbformat": 4,
 "nbformat_minor": 5
}
