{
 "cells": [
  {
   "cell_type": "markdown",
   "id": "d3c359b5-1795-440c-98d2-8c0193d2da28",
   "metadata": {},
   "source": [
    "# Transfer Learning Using fastText API\n",
    "Modified from [this fastText tutorial.](https://fasttext.cc/docs/en/supervised-tutorial.html) fastText was developed by Facebook to compete with more time-intensive deep learning approaches, and uses a [multinomial logistic regression algorithm](https://towardsdatascience.com/fasttext-bag-of-tricks-for-efficient-text-classification-513ba9e302e7).\n",
    "\n",
    "No preprocessing has yet been done to our text features. We will need to combine all three of our text features into one to retain the most signal, and then ensure that the text in our feature is UTF-8 encoded. New lines, extra spaces, etc. will be removed. \n",
    "\n",
    "This is a non-ordinal classifier, so the reduced grade will be used, with the prefix \"\\_\\_label\\_\\_\" appended for use by the model. Each row is then read into a .txt file with the label followed by the document."
   ]
  },
  {
   "cell_type": "code",
   "execution_count": null,
   "id": "8b6d0350-ae3f-440d-a109-6992d5e9e295",
   "metadata": {},
   "outputs": [],
   "source": [
    "#imports\n",
    "import pandas as pd\n",
    "import numpy as np\n",
    "import fasttext\n",
    "import re\n",
    "\n",
    "from sklearn.feature_extraction.text import CountVectorizer"
   ]
  },
  {
   "cell_type": "code",
   "execution_count": null,
   "id": "25db4a8a-409f-48d4-885f-e89cbd2efdf4",
   "metadata": {},
   "outputs": [],
   "source": [
    "def run_fasttext(train, val, test, target_col, x_cols):\n",
    "    \"\"\"\n",
    "    Creates a fastText model trained and evaluated on the given DataFrames with the given target and exogenous variables\n",
    "    target_col should be a single column name\n",
    "    x_cols should be a list (even if only a single column is to be used)\n",
    "    \"\"\"\n",
    "    #fastText-specific preprocessing\n",
    "    for df in (train, val, test):\n",
    "        df['target'] = '__label__' + df['grade_reduced'].astype(str)\n",
    "        df['exog'] = df[x_cols].apply(lambda x: \" \".join([str(val) for val in x]), axis=1)\n",
    "        \n",
    "    #save to txt files - https://stackoverflow.com/questions/31247198/python-pandas-write-content-of-dataframe-into-text-file\n",
    "    train[['target', 'exog']].to_csv(\"./data/train.txt\", header=False, index=False, sep=\" \")\n",
    "    val[['target', 'exog']].to_csv(\"./data/val.txt\", header=False, index=False, sep=\" \")\n",
    "    test[['target', 'exog']].to_csv(\"./data/test.txt\", header=False, index=False, sep=\" \")\n",
    "    \n",
    "    #train\n",
    "    model = fasttext.train_supervised(input=\"./data/train.txt\")\n",
    "    \n",
    "    #evaluate - precision/recall\n",
    "    stats = {k: model.test(f\"./data/{k}.txt\") for k in (\"train\", 'val', 'test')}                      \n",
    "    for k, v in stats.items():\n",
    "        print(f\"{k.title()}\\tPrecision:\\t{round(v[1],3)}\\n\\tRecall:\\t\\t{round(v[2],3)}\")\n",
    "    \n",
    "    #evaluate - test accuracy\n",
    "    y_pred = test['exog'].apply(lambda x: model.predict(x))\n",
    "    print()\n",
    "    print(f\"Test Accuracy: {round((y_pred.map(lambda x: x[0][0]) == test['target']).mean(), 3)}\")\n",
    "    \n",
    "    return model"
   ]
  },
  {
   "cell_type": "code",
   "execution_count": null,
   "id": "99628e10-a3bc-4d55-9a36-9328ba230189",
   "metadata": {},
   "outputs": [],
   "source": [
    "#load in data\n",
    "train = pd.read_csv(\"./data/train.csv\")\n",
    "val = pd.read_csv(\"./data/val.csv\")\n",
    "test = pd.read_csv(\"./data/test.csv\")"
   ]
  },
  {
   "cell_type": "code",
   "execution_count": null,
   "id": "4da839bc-14f0-4e77-9783-b25185a976ff",
   "metadata": {},
   "outputs": [],
   "source": [
    "model = run_fasttext(train, val, test, 'grade_reduced', ['lemmatized_text_combined'])"
   ]
  },
  {
   "cell_type": "markdown",
   "id": "d6d95f9a-57ef-4f13-a73e-42c1ce0e6197",
   "metadata": {},
   "source": [
    "# TALK MORE ABOUT BERT"
   ]
  },
  {
   "cell_type": "markdown",
   "id": "684e59d9-55f2-4f09-9118-e5fcffb3752f",
   "metadata": {},
   "source": [
    "Here we see that the precision and recall for this model are around 33%, very similar to the BERT implementation. Moving forward we will:\n",
    "- Remove corpus-specific stop words\n",
    "- Add more features - climb type"
   ]
  },
  {
   "cell_type": "markdown",
   "id": "afd00931-4dfa-4104-8323-8e1f15b2a084",
   "metadata": {},
   "source": [
    "### Further Data Cleaning"
   ]
  },
  {
   "cell_type": "code",
   "execution_count": null,
   "id": "4725527a-3d5e-48bb-9300-8af411ade81c",
   "metadata": {},
   "outputs": [],
   "source": [
    "#https://stackoverflow.com/questions/6116978/how-to-replace-multiple-substrings-of-a-string\n",
    "def multiple_replace(string, rep_dict):\n",
    "    pattern = re.compile(\"|\".join([re.escape(k) for k in sorted(rep_dict,key=len,reverse=True)]), flags=re.DOTALL)\n",
    "    return pattern.sub(lambda x: rep_dict[x.group(0)], string)"
   ]
  },
  {
   "cell_type": "code",
   "execution_count": null,
   "id": "94535291-0c0d-44ee-ac5a-090826dafd6a",
   "metadata": {},
   "outputs": [],
   "source": [
    "#use CountVectorizer to find corpus-specific stop words\n",
    "cvec = CountVectorizer()\n",
    "cvec_df = pd.DataFrame(cvec.fit_transform(train['lemmatized_text_combined']).todense(), columns=cvec.get_feature_names_out())"
   ]
  },
  {
   "cell_type": "code",
   "execution_count": 246,
   "id": "2908405b-370d-4582-9ad4-99e9050735c0",
   "metadata": {},
   "outputs": [
    {
     "data": {
      "text/plain": [
       "bolt      158145\n",
       "right     113042\n",
       "climb      97934\n",
       "route      92252\n",
       "anchor     87819\n",
       "crack      77795\n",
       "face       66288\n",
       "leave      60313\n",
       "start      58287\n",
       "left       50225\n",
       "ledge      41138\n",
       "pitch      39935\n",
       "crux       35456\n",
       "corner     34944\n",
       "wall       34183\n",
       "good       33553\n",
       "roof       33553\n",
       "foot       33422\n",
       "small      33413\n",
       "rock       32787\n",
       "dtype: int64"
      ]
     },
     "execution_count": 246,
     "metadata": {},
     "output_type": "execute_result"
    }
   ],
   "source": [
    "#top most common words\n",
    "cvec_df.sum().sort_values(ascending=False).head(20)"
   ]
  },
  {
   "cell_type": "code",
   "execution_count": null,
   "id": "84963a97-1ddf-4aad-b093-17373a5934a8",
   "metadata": {},
   "outputs": [],
   "source": [
    "#top 20 stopwords\n",
    "words_to_remove = {k + \" \": \" \" for k in cvec_df.sum().sort_values(ascending=False).head(20).index}\n",
    "for df in (train, val, test):\n",
    "    df['stopped_lemmatized_text_combined'] = df['lemmatized_text_combined'].apply(lambda x: multiple_replace(x, words_to_remove))"
   ]
  },
  {
   "cell_type": "code",
   "execution_count": null,
   "id": "5e216ab6-5ed3-4503-bd87-28f0a10b1f37",
   "metadata": {},
   "outputs": [],
   "source": [
    "#check what the new top words are\n",
    "cvec = CountVectorizer()\n",
    "stopped_cvec_df = pd.DataFrame(cvec.fit_transform(train['stopped_lemmatized_text_combined']).todense(), columns=cvec.get_feature_names_out())\n",
    "stopped_cvec_df.sum().sort_values(ascending=False).head(20)"
   ]
  },
  {
   "cell_type": "code",
   "execution_count": null,
   "id": "4b221bcf-66ea-4765-b8d5-9aef47b4b177",
   "metadata": {},
   "outputs": [],
   "source": [
    "train['stopped_lemmatized_text_combined']"
   ]
  },
  {
   "cell_type": "code",
   "execution_count": null,
   "id": "7c38c3ea-f05d-4e56-9aab-58a520a8a4c3",
   "metadata": {},
   "outputs": [],
   "source": [
    "run_fasttext(train, val, test, 'grade_reduced', ['stopped_lemmatized_text_combined'])"
   ]
  },
  {
   "cell_type": "code",
   "execution_count": null,
   "id": "3b69f163-27dc-452c-9a1a-e9f5312b4ed1",
   "metadata": {},
   "outputs": [],
   "source": []
  }
 ],
 "metadata": {
  "kernelspec": {
   "display_name": "Python [conda env:dsi]",
   "language": "python",
   "name": "conda-env-dsi-py"
  },
  "language_info": {
   "codemirror_mode": {
    "name": "ipython",
    "version": 3
   },
   "file_extension": ".py",
   "mimetype": "text/x-python",
   "name": "python",
   "nbconvert_exporter": "python",
   "pygments_lexer": "ipython3",
   "version": "3.9.7"
  }
 },
 "nbformat": 4,
 "nbformat_minor": 5
}
