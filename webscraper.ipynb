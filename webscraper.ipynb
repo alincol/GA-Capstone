{
 "cells": [
  {
   "cell_type": "code",
   "execution_count": 79,
   "id": "bb3379bc-99f2-44f2-b8e3-174f034d3712",
   "metadata": {},
   "outputs": [],
   "source": [
    "import pandas as pd\n",
    "import numpy as np\n",
    "from bs4 import BeautifulSoup\n",
    "import requests\n",
    "import sqlite3\n",
    "import time"
   ]
  },
  {
   "cell_type": "code",
   "execution_count": 33,
   "id": "a09103d1-422d-4d9c-9553-cb1f7c022e87",
   "metadata": {},
   "outputs": [],
   "source": [
    "#open database to write\n",
    "db = \"./sql-db/mp.sqlite\"\n",
    "connector = sqlite3.connect(db)\n",
    "cursor = connector.cursor()\n"
   ]
  },
  {
   "cell_type": "code",
   "execution_count": 3,
   "id": "c944e549-dc1a-4e85-81d8-4676f820178d",
   "metadata": {},
   "outputs": [],
   "source": [
    "response = requests.get(\"https://www.mountainproject.com/route-guide\")\n",
    "response.raise_for_status()"
   ]
  },
  {
   "cell_type": "code",
   "execution_count": 5,
   "id": "f0817334-8ef1-4c4c-9811-3714dbecf636",
   "metadata": {},
   "outputs": [],
   "source": [
    "main_guide = BeautifulSoup(response.text, \"lxml\")"
   ]
  },
  {
   "cell_type": "code",
   "execution_count": 172,
   "id": "dfa4f670-1b63-4d9a-8f4d-32250d8d5809",
   "metadata": {},
   "outputs": [],
   "source": [
    "def get_area_id(href):\n",
    "    return href.split(\"/area/\")[1].split(\"/\")[0]"
   ]
  },
  {
   "cell_type": "code",
   "execution_count": 194,
   "id": "b432c085-db5d-40c3-99dd-ee9f1996ca98",
   "metadata": {},
   "outputs": [],
   "source": [
    "#thank you: https://gist.github.com/norcal82/e4c7e8113f377db184bb\n",
    "state_names = [\"Alaska\", \"Alabama\", \"Arkansas\", \"Arizona\", \"California\", \"Colorado\", \"Connecticut\", \"Delaware\", \"Florida\", \"Georgia\", \"Hawaii\", \"Iowa\", \"Idaho\", \"Illinois\", \"Indiana\", \"Kansas\", \"Kentucky\", \"Louisiana\", \"Massachusetts\", \"Maryland\", \"Maine\", \"Michigan\", \"Minnesota\", \"Missouri\", \"Mississippi\", \"Montana\", \"North Carolina\", \"North Dakota\", \"Nebraska\", \"New Hampshire\", \"New Jersey\", \"New Mexico\", \"Nevada\", \"New York\", \"Ohio\", \"Oklahoma\", \"Oregon\", \"Pennsylvania\", \"Rhode Island\", \"South Carolina\", \"South Dakota\", \"Tennessee\", \"Texas\", \"Utah\", \"Virginia\", \"Vermont\", \"Washington\", \"Wisconsin\", \"West Virginia\", \"Wyoming\"]"
   ]
  },
  {
   "cell_type": "code",
   "execution_count": 195,
   "id": "f9390f8f-a9eb-4bbb-8e59-fbbdcaf8364e",
   "metadata": {},
   "outputs": [
    {
     "data": {
      "text/plain": [
       "{'105905173': ['Alabama',\n",
       "  'https://www.mountainproject.com/area/105905173/alabama'],\n",
       " '105909311': ['Alaska',\n",
       "  'https://www.mountainproject.com/area/105909311/alaska'],\n",
       " '105708962': ['Arizona',\n",
       "  'https://www.mountainproject.com/area/105708962/arizona'],\n",
       " '105901027': ['Arkansas',\n",
       "  'https://www.mountainproject.com/area/105901027/arkansas'],\n",
       " '105708959': ['California',\n",
       "  'https://www.mountainproject.com/area/105708959/california'],\n",
       " '105708956': ['Colorado',\n",
       "  'https://www.mountainproject.com/area/105708956/colorado'],\n",
       " '105806977': ['Connecticut',\n",
       "  'https://www.mountainproject.com/area/105806977/connecticut'],\n",
       " '106861605': ['Delaware',\n",
       "  'https://www.mountainproject.com/area/106861605/delaware'],\n",
       " '111721391': ['Florida',\n",
       "  'https://www.mountainproject.com/area/111721391/florida'],\n",
       " '105897947': ['Georgia',\n",
       "  'https://www.mountainproject.com/area/105897947/georgia'],\n",
       " '106316122': ['Hawaii',\n",
       "  'https://www.mountainproject.com/area/106316122/hawaii'],\n",
       " '105708958': ['Idaho',\n",
       "  'https://www.mountainproject.com/area/105708958/idaho'],\n",
       " '105911816': ['Illinois',\n",
       "  'https://www.mountainproject.com/area/105911816/illinois'],\n",
       " '112389571': ['Indiana',\n",
       "  'https://www.mountainproject.com/area/112389571/indiana'],\n",
       " '106092653': ['Iowa', 'https://www.mountainproject.com/area/106092653/iowa'],\n",
       " '107235316': ['Kansas',\n",
       "  'https://www.mountainproject.com/area/107235316/kansas'],\n",
       " '105868674': ['Kentucky',\n",
       "  'https://www.mountainproject.com/area/105868674/kentucky'],\n",
       " '116720343': ['Louisiana',\n",
       "  'https://www.mountainproject.com/area/116720343/louisiana'],\n",
       " '105948977': ['Maine',\n",
       "  'https://www.mountainproject.com/area/105948977/maine'],\n",
       " '106029417': ['Maryland',\n",
       "  'https://www.mountainproject.com/area/106029417/maryland'],\n",
       " '105908062': ['Massachusetts',\n",
       "  'https://www.mountainproject.com/area/105908062/massachusetts'],\n",
       " '106113246': ['Michigan',\n",
       "  'https://www.mountainproject.com/area/106113246/michigan'],\n",
       " '105812481': ['Minnesota',\n",
       "  'https://www.mountainproject.com/area/105812481/minnesota'],\n",
       " '108307056': ['Mississippi',\n",
       "  'https://www.mountainproject.com/area/108307056/mississippi'],\n",
       " '105899020': ['Missouri',\n",
       "  'https://www.mountainproject.com/area/105899020/missouri'],\n",
       " '105907492': ['Montana',\n",
       "  'https://www.mountainproject.com/area/105907492/montana'],\n",
       " '116096758': ['Nebraska',\n",
       "  'https://www.mountainproject.com/area/116096758/nebraska'],\n",
       " '105708961': ['Nevada',\n",
       "  'https://www.mountainproject.com/area/105708961/nevada'],\n",
       " '105872225': ['New Hampshire',\n",
       "  'https://www.mountainproject.com/area/105872225/new-hampshire'],\n",
       " '106374428': ['New Jersey',\n",
       "  'https://www.mountainproject.com/area/106374428/new-jersey'],\n",
       " '105708964': ['New Mexico',\n",
       "  'https://www.mountainproject.com/area/105708964/new-mexico'],\n",
       " '105800424': ['New York',\n",
       "  'https://www.mountainproject.com/area/105800424/new-york'],\n",
       " '105873282': ['North Carolina',\n",
       "  'https://www.mountainproject.com/area/105873282/north-carolina'],\n",
       " '106598130': ['North Dakota',\n",
       "  'https://www.mountainproject.com/area/106598130/north-dakota'],\n",
       " '105994953': ['Ohio', 'https://www.mountainproject.com/area/105994953/ohio'],\n",
       " '105854466': ['Oklahoma',\n",
       "  'https://www.mountainproject.com/area/105854466/oklahoma'],\n",
       " '105708965': ['Oregon',\n",
       "  'https://www.mountainproject.com/area/105708965/oregon'],\n",
       " '105913279': ['Pennsylvania',\n",
       "  'https://www.mountainproject.com/area/105913279/pennsylvania'],\n",
       " '106842810': ['Rhode Island',\n",
       "  'https://www.mountainproject.com/area/106842810/rhode-island'],\n",
       " '107638915': ['South Carolina',\n",
       "  'https://www.mountainproject.com/area/107638915/south-carolina'],\n",
       " '105708963': ['South Dakota',\n",
       "  'https://www.mountainproject.com/area/105708963/south-dakota'],\n",
       " '105887760': ['Tennessee',\n",
       "  'https://www.mountainproject.com/area/105887760/tennessee'],\n",
       " '105835804': ['Texas',\n",
       "  'https://www.mountainproject.com/area/105835804/texas'],\n",
       " '105708957': ['Utah', 'https://www.mountainproject.com/area/105708957/utah'],\n",
       " '105891603': ['Vermont',\n",
       "  'https://www.mountainproject.com/area/105891603/vermont'],\n",
       " '105852400': ['Virginia',\n",
       "  'https://www.mountainproject.com/area/105852400/virginia'],\n",
       " '105708966': ['Washington',\n",
       "  'https://www.mountainproject.com/area/105708966/washington'],\n",
       " '105855459': ['West Virginia',\n",
       "  'https://www.mountainproject.com/area/105855459/west-virginia'],\n",
       " '105708968': ['Wisconsin',\n",
       "  'https://www.mountainproject.com/area/105708968/wisconsin'],\n",
       " '105708960': ['Wyoming',\n",
       "  'https://www.mountainproject.com/area/105708960/wyoming']}"
      ]
     },
     "execution_count": 195,
     "metadata": {},
     "output_type": "execute_result"
    }
   ],
   "source": [
    "starting_areas = {get_area_id(a[\"href\"]): [a.text, a[\"href\"]] for a in main_guide.find_all(\"a\", {\"class\":\"text-truncate float-xs-left\"}) if a.text in state_names}\n",
    "starting_areas"
   ]
  },
  {
   "cell_type": "code",
   "execution_count": 196,
   "id": "5483feb0-5d08-4f3e-89b0-02fa386da43e",
   "metadata": {},
   "outputs": [
    {
     "name": "stdout",
     "output_type": "stream",
     "text": [
      "('105905173', ['Alabama', 'https://www.mountainproject.com/area/105905173/alabama'])\n",
      "('105909311', ['Alaska', 'https://www.mountainproject.com/area/105909311/alaska'])\n",
      "('105708962', ['Arizona', 'https://www.mountainproject.com/area/105708962/arizona'])\n",
      "('105901027', ['Arkansas', 'https://www.mountainproject.com/area/105901027/arkansas'])\n",
      "('105708959', ['California', 'https://www.mountainproject.com/area/105708959/california'])\n",
      "('105708956', ['Colorado', 'https://www.mountainproject.com/area/105708956/colorado'])\n",
      "('105806977', ['Connecticut', 'https://www.mountainproject.com/area/105806977/connecticut'])\n",
      "('106861605', ['Delaware', 'https://www.mountainproject.com/area/106861605/delaware'])\n",
      "('111721391', ['Florida', 'https://www.mountainproject.com/area/111721391/florida'])\n",
      "('105897947', ['Georgia', 'https://www.mountainproject.com/area/105897947/georgia'])\n",
      "('106316122', ['Hawaii', 'https://www.mountainproject.com/area/106316122/hawaii'])\n",
      "('105708958', ['Idaho', 'https://www.mountainproject.com/area/105708958/idaho'])\n",
      "('105911816', ['Illinois', 'https://www.mountainproject.com/area/105911816/illinois'])\n",
      "('112389571', ['Indiana', 'https://www.mountainproject.com/area/112389571/indiana'])\n",
      "('106092653', ['Iowa', 'https://www.mountainproject.com/area/106092653/iowa'])\n",
      "('107235316', ['Kansas', 'https://www.mountainproject.com/area/107235316/kansas'])\n",
      "('105868674', ['Kentucky', 'https://www.mountainproject.com/area/105868674/kentucky'])\n",
      "('116720343', ['Louisiana', 'https://www.mountainproject.com/area/116720343/louisiana'])\n",
      "('105948977', ['Maine', 'https://www.mountainproject.com/area/105948977/maine'])\n",
      "('106029417', ['Maryland', 'https://www.mountainproject.com/area/106029417/maryland'])\n",
      "('105908062', ['Massachusetts', 'https://www.mountainproject.com/area/105908062/massachusetts'])\n",
      "('106113246', ['Michigan', 'https://www.mountainproject.com/area/106113246/michigan'])\n",
      "('105812481', ['Minnesota', 'https://www.mountainproject.com/area/105812481/minnesota'])\n",
      "('108307056', ['Mississippi', 'https://www.mountainproject.com/area/108307056/mississippi'])\n",
      "('105899020', ['Missouri', 'https://www.mountainproject.com/area/105899020/missouri'])\n",
      "('105907492', ['Montana', 'https://www.mountainproject.com/area/105907492/montana'])\n",
      "('116096758', ['Nebraska', 'https://www.mountainproject.com/area/116096758/nebraska'])\n",
      "('105708961', ['Nevada', 'https://www.mountainproject.com/area/105708961/nevada'])\n",
      "('105872225', ['New Hampshire', 'https://www.mountainproject.com/area/105872225/new-hampshire'])\n",
      "('106374428', ['New Jersey', 'https://www.mountainproject.com/area/106374428/new-jersey'])\n",
      "('105708964', ['New Mexico', 'https://www.mountainproject.com/area/105708964/new-mexico'])\n",
      "('105800424', ['New York', 'https://www.mountainproject.com/area/105800424/new-york'])\n",
      "('105873282', ['North Carolina', 'https://www.mountainproject.com/area/105873282/north-carolina'])\n",
      "('106598130', ['North Dakota', 'https://www.mountainproject.com/area/106598130/north-dakota'])\n",
      "('105994953', ['Ohio', 'https://www.mountainproject.com/area/105994953/ohio'])\n",
      "('105854466', ['Oklahoma', 'https://www.mountainproject.com/area/105854466/oklahoma'])\n",
      "('105708965', ['Oregon', 'https://www.mountainproject.com/area/105708965/oregon'])\n",
      "('105913279', ['Pennsylvania', 'https://www.mountainproject.com/area/105913279/pennsylvania'])\n",
      "('106842810', ['Rhode Island', 'https://www.mountainproject.com/area/106842810/rhode-island'])\n",
      "('107638915', ['South Carolina', 'https://www.mountainproject.com/area/107638915/south-carolina'])\n",
      "('105708963', ['South Dakota', 'https://www.mountainproject.com/area/105708963/south-dakota'])\n",
      "('105887760', ['Tennessee', 'https://www.mountainproject.com/area/105887760/tennessee'])\n",
      "('105835804', ['Texas', 'https://www.mountainproject.com/area/105835804/texas'])\n",
      "('105708957', ['Utah', 'https://www.mountainproject.com/area/105708957/utah'])\n",
      "('105891603', ['Vermont', 'https://www.mountainproject.com/area/105891603/vermont'])\n",
      "('105852400', ['Virginia', 'https://www.mountainproject.com/area/105852400/virginia'])\n",
      "('105708966', ['Washington', 'https://www.mountainproject.com/area/105708966/washington'])\n",
      "('105855459', ['West Virginia', 'https://www.mountainproject.com/area/105855459/west-virginia'])\n",
      "('105708968', ['Wisconsin', 'https://www.mountainproject.com/area/105708968/wisconsin'])\n",
      "('105708960', ['Wyoming', 'https://www.mountainproject.com/area/105708960/wyoming'])\n"
     ]
    }
   ],
   "source": [
    "scraped_areas = {}\n",
    "for area in starting_areas.items():\n",
    "    print(area)"
   ]
  },
  {
   "cell_type": "code",
   "execution_count": 212,
   "id": "909a4962-806f-44f8-8462-260fc4f0636b",
   "metadata": {},
   "outputs": [],
   "source": [
    "#rewrite this to scrape one page at a time\n",
    "def mp_scrape(link, cursor):\n",
    "    res = requests.get(link)\n",
    "    try:\n",
    "        res.raise_for_status()\n",
    "    except:\n",
    "        print(f\"{link} errored out\")\n",
    "    sub_area_text = BeautifulSoup(res.text, \"lxml\")\n",
    "    sub_area_table = sub_area_text.find_all(\"div\", {\"class\":\"lef-nav-row\"})\n",
    "    route_table = sub_area_text.find(\"table\", {\"id\":\"left-nav-route-table\"})\n",
    "\n",
    "    #if there are more sub_areas, call the function recursively\n",
    "    if sub_area_table:\n",
    "        for div in sub_area_table:\n",
    "            link = div.find(\"a\")[\"href\"]\n",
    "            if is_good_link(link):\n",
    "                mp_scrape(link, cursor)\n",
    "    \n",
    "    #if there is a list of routes, add each route to the database\n",
    "    elif route_table:\n",
    "        #make a list of route links\n",
    "        routelinks = [a[\"href\"] for a in route_table.find_all(\"a\") if is_good_link(a[\"href\"])]\n",
    "        for link in routelinks:\n",
    "            if is_good_link(link):\n",
    "                add_route(link, cursor)\n",
    "    #if there are neither, this page is empty\n",
    "    else:\n",
    "        print(f\"{link} is an empty area page\")\n",
    "\n",
    "\n",
    "#make some soup \n",
    "#if find_all(\"div\", {\"class\": \"lef-nav-row\"}) -> add more areas\n",
    "#if find(\"table\", {\"class\": \"left-nav-route-table\"}) -> open route links, add route and comments to database\n"
   ]
  },
  {
   "cell_type": "code",
   "execution_count": 203,
   "id": "06df9f63-2cdb-4a3f-bebe-6914aa30c5ff",
   "metadata": {},
   "outputs": [],
   "source": [
    "#in case we trigger something https://softwareengineering.stackexchange.com/questions/91760/how-to-be-a-good-citizen-when-crawling-web-sites\n",
    "def is_good_link(link):\n",
    "    for word in ['delete', 'remove', 'edit', 'update', 'modify']:\n",
    "        if word in link.lower():\n",
    "            return False\n",
    "    return True"
   ]
  },
  {
   "cell_type": "code",
   "execution_count": 206,
   "id": "a05ad14f-4713-4fc6-9dd7-b8d7bb7db953",
   "metadata": {},
   "outputs": [
    {
     "data": {
      "text/plain": [
       "False"
      ]
     },
     "execution_count": 206,
     "metadata": {},
     "output_type": "execute_result"
    }
   ],
   "source": [
    "is_good_link(\"https://remove.stackexchange.com/questions/91760/how-to-be-a-good-citizen-when-crawling-web-sites\")"
   ]
  },
  {
   "cell_type": "code",
   "execution_count": 191,
   "id": "6c808dfd-5dbe-4216-a53c-7b77206f4dee",
   "metadata": {},
   "outputs": [],
   "source": [
    "def add_route(routelink, cursor):\n",
    "    print(f\"Adding route {routelink}\")\n",
    "    #make some soup\n",
    "    res = requests.get(routelink)\n",
    "    try:\n",
    "        res.raise_for_status()\n",
    "    except:\n",
    "        print(f\"{routelink} page did not work\")\n",
    "        return None\n",
    "    page_text = BeautifulSoup(res.text, \"lxml\")\n",
    "    \n",
    "    \n",
    "    \n",
    "    #all of the variables for the route\n",
    "    route_id = routelink.split(\"/route/\")[1].split(\"/\")[0]\n",
    "    areas = str([get_area_id(a[\"href\"]) for a in page_text.find(\"div\", {\"class\": \"mb-half small text-warm\"}).find_all(\"a\")[1:]])\n",
    "    name = page_text.find(\"h1\").text.strip()\n",
    "    yds = page_text.find(\"span\", {\"class\": \"rateYDS\"}).text.strip()\n",
    "    \n",
    "    #this pulls all of the ratings, have to pare down to risk rating\n",
    "    risk_rating = page_text.find(\"h2\", {\"class\": \"inline-block mr-2\"}).text.strip().split()[-1]\n",
    "    if risk_rating == \"British\":\n",
    "        risk_rating = 'Null'\n",
    "    \n",
    "    #for NLP features\n",
    "    description_table = page_text.find(\"table\", {\"class\": \"description-details\"})\n",
    "    tds = [tr.find_all(\"td\")[1].text.strip() for tr in description_table.find_all(\"tr\")]\n",
    "    route_type = tds[0]\n",
    "    fa = tds[1]\n",
    "    page_views = tds[2]\n",
    "        \n",
    "    paragraphs = page_text.find_all(\"div\", {\"class\": \"fr-view\"})\n",
    "    description = paragraphs[0].text.strip()\n",
    "    location = paragraphs[1].text.strip()\n",
    "    protection = paragraphs[2].text.strip()\n",
    "    link = routelink\n",
    "    \n",
    "    try:\n",
    "        cursor.execute('''INSERT INTO routes VALUES (?,?,?,?,?,?,?,?,?,?,?,?);''', (route_id, areas, name, yds, route_type, fa, page_views, description, location, protection, link, risk_rating))\n",
    "    except sqlite3.IntegrityError:\n",
    "        print('already in db')\n",
    "    \n",
    "    #add ratings from opinions page\n",
    "    you_and_route = page_text.find(\"div\", {\"id\": \"you-and-route\"}).find(\"a\")\n",
    "    if you_and_route.text[0] != 0:\n",
    "        add_suggested_ratings(you_and_route[\"href\"], cursor, route_id)\n",
    "    \n",
    "    #add comments - ran into roadblock https://www.mountainproject.com/img/waitWhite.gif\n",
    "    \"\"\"comments = page_text.find_all(\"table\", {\"class\": \"main-comment width100\"})\n",
    "    print(comments)\n",
    "    if comments:\n",
    "        for comment in comments:\n",
    "            comment_id = comment[\"id\"].split(\"-\")[1]\n",
    "            user_id = comment.find(\"div\", {\"class\": \"bio\"}).a[\"href\"].split(\"user/\")[1].split(\"/\")[0]\n",
    "            comment_text = comment.find(\"div\", {\"class\": \"comment-body\"}).span.text.strip()\n",
    "            cursor.execute(f\"INSERT INTO comments VALUES ({comment_id}, {route_id}, {user_id}, {comment_text});\")\"\"\""
   ]
  },
  {
   "cell_type": "code",
   "execution_count": 190,
   "id": "ce800d7b-06ab-435e-af3a-c5ca4c97422d",
   "metadata": {},
   "outputs": [
    {
     "data": {
      "text/plain": [
       "<a href=\"https://www.mountainproject.com/route/stats/111972483/hero-route\">2 Opinions</a>"
      ]
     },
     "execution_count": 190,
     "metadata": {},
     "output_type": "execute_result"
    }
   ],
   "source": [
    "res = requests.get('https://www.mountainproject.com/route/111972483/hero-route')\n",
    "rando = BeautifulSoup(res.text, 'lxml').find(\"div\", {\"id\": \"you-and-route\"}).find(\"a\")\n",
    "rando"
   ]
  },
  {
   "cell_type": "code",
   "execution_count": 187,
   "id": "fc8821e5-6c40-45b7-8612-9e079bac27ae",
   "metadata": {},
   "outputs": [],
   "source": [
    "def add_suggested_ratings(ticklink, cursor, route_id):\n",
    "    #make some soup\n",
    "    res = requests.get(ticklink)\n",
    "    try:\n",
    "        res.raise_for_status()\n",
    "    except:\n",
    "        print(f\"{ticklink} page did not work\")\n",
    "        return None\n",
    "    page_text = BeautifulSoup(res.text, \"lxml\")\n",
    "    \n",
    "    ratings_table = page_text.find_all(\"table\", {\"class\":\"table table-striped\"})[1]\n",
    "    rows = ratings_table.find_all(\"tr\")\n",
    "    for row in rows:\n",
    "        tds = row.find_all(\"td\")\n",
    "        user_id = tds[0].a[\"href\"].split(\"user/\")[1].split(\"/\")[0]\n",
    "        rating = tds[1].text\n",
    "        try:\n",
    "            cursor.execute('''INSERT INTO suggested_ratings VALUES (?,?,?);''', (user_id, route_id, rating))\n",
    "        except sqlite3.IntegrityError:\n",
    "            #assumes that the values to be overwritten are from updates to code\n",
    "            cursor.execute('''UPDATE suggested_ratings SET user_id=?, route_id=?, suggested_rating=?''', (user_id, route_id, rating))"
   ]
  },
  {
   "cell_type": "code",
   "execution_count": 174,
   "id": "234d0e58-f504-4d95-ae4b-5740ccb4ce57",
   "metadata": {},
   "outputs": [
    {
     "name": "stdout",
     "output_type": "stream",
     "text": [
      "Adding route https://www.mountainproject.com/route/111972455/caught-in-the-hen-house\n",
      "already in db\n",
      "[]\n",
      "Adding route https://www.mountainproject.com/route/111972483/hero-route\n",
      "already in db\n",
      "[]\n",
      "Adding route https://www.mountainproject.com/route/111972427/out-on-a-limb\n",
      "already in db\n",
      "[]\n",
      "Adding route https://www.mountainproject.com/route/106413411/hang-down\n",
      "already in db\n",
      "[]\n",
      "Adding route https://www.mountainproject.com/route/106413405/jelly-roll\n",
      "already in db\n",
      "[]\n",
      "Adding route https://www.mountainproject.com/route/106413420/yella-fever\n"
     ]
    },
    {
     "ename": "KeyboardInterrupt",
     "evalue": "",
     "output_type": "error",
     "traceback": [
      "\u001b[0;31m---------------------------------------------------------------------------\u001b[0m",
      "\u001b[0;31mKeyboardInterrupt\u001b[0m                         Traceback (most recent call last)",
      "\u001b[0;32m/var/folders/xg/m55_3f_j3gj2wj8qgbv3jj_c0000gn/T/ipykernel_78240/2015164182.py\u001b[0m in \u001b[0;36m<module>\u001b[0;34m\u001b[0m\n\u001b[1;32m      1\u001b[0m test_dict= {\"106305856\": [\"Yellow Bluff\",\n\u001b[1;32m      2\u001b[0m   \"https://www.mountainproject.com/area/106305856/yellow-bluff\"]}\n\u001b[0;32m----> 3\u001b[0;31m \u001b[0mmp_scrape\u001b[0m\u001b[0;34m(\u001b[0m\u001b[0mtest_dict\u001b[0m\u001b[0;34m,\u001b[0m \u001b[0mcursor\u001b[0m\u001b[0;34m)\u001b[0m\u001b[0;34m\u001b[0m\u001b[0;34m\u001b[0m\u001b[0m\n\u001b[0m\u001b[1;32m      4\u001b[0m \u001b[0mconnector\u001b[0m\u001b[0;34m.\u001b[0m\u001b[0mcommit\u001b[0m\u001b[0;34m(\u001b[0m\u001b[0;34m)\u001b[0m\u001b[0;34m\u001b[0m\u001b[0;34m\u001b[0m\u001b[0m\n",
      "\u001b[0;32m/var/folders/xg/m55_3f_j3gj2wj8qgbv3jj_c0000gn/T/ipykernel_78240/2067689475.py\u001b[0m in \u001b[0;36mmp_scrape\u001b[0;34m(areas, cursor)\u001b[0m\n\u001b[1;32m     18\u001b[0m                 \u001b[0ma\u001b[0m \u001b[0;34m=\u001b[0m \u001b[0mlink\u001b[0m\u001b[0;34m.\u001b[0m\u001b[0mfind\u001b[0m\u001b[0;34m(\u001b[0m\u001b[0;34m\"a\"\u001b[0m\u001b[0;34m)\u001b[0m\u001b[0;34m\u001b[0m\u001b[0;34m\u001b[0m\u001b[0m\n\u001b[1;32m     19\u001b[0m                 \u001b[0mmore_sub_areas\u001b[0m\u001b[0;34m[\u001b[0m\u001b[0marea_id\u001b[0m\u001b[0;34m(\u001b[0m\u001b[0ma\u001b[0m\u001b[0;34m[\u001b[0m\u001b[0;34m\"href\"\u001b[0m\u001b[0;34m]\u001b[0m\u001b[0;34m)\u001b[0m\u001b[0;34m]\u001b[0m \u001b[0;34m=\u001b[0m \u001b[0;34m[\u001b[0m\u001b[0ma\u001b[0m\u001b[0;34m.\u001b[0m\u001b[0mtext\u001b[0m\u001b[0;34m,\u001b[0m \u001b[0ma\u001b[0m\u001b[0;34m[\u001b[0m\u001b[0;34m\"href\"\u001b[0m\u001b[0;34m]\u001b[0m\u001b[0;34m]\u001b[0m\u001b[0;34m\u001b[0m\u001b[0;34m\u001b[0m\u001b[0m\n\u001b[0;32m---> 20\u001b[0;31m             \u001b[0mmp_scrape\u001b[0m\u001b[0;34m(\u001b[0m\u001b[0mmore_sub_areas\u001b[0m\u001b[0;34m,\u001b[0m \u001b[0mcursor\u001b[0m\u001b[0;34m)\u001b[0m\u001b[0;34m\u001b[0m\u001b[0;34m\u001b[0m\u001b[0m\n\u001b[0m\u001b[1;32m     21\u001b[0m         \u001b[0;31m#if there is a list of routes, add each route to the database\u001b[0m\u001b[0;34m\u001b[0m\u001b[0;34m\u001b[0m\u001b[0m\n\u001b[1;32m     22\u001b[0m         \u001b[0;32melif\u001b[0m \u001b[0mroute_table\u001b[0m\u001b[0;34m:\u001b[0m\u001b[0;34m\u001b[0m\u001b[0;34m\u001b[0m\u001b[0m\n",
      "\u001b[0;32m/var/folders/xg/m55_3f_j3gj2wj8qgbv3jj_c0000gn/T/ipykernel_78240/2067689475.py\u001b[0m in \u001b[0;36mmp_scrape\u001b[0;34m(areas, cursor)\u001b[0m\n\u001b[1;32m     24\u001b[0m             \u001b[0mroutelinks\u001b[0m \u001b[0;34m=\u001b[0m \u001b[0;34m[\u001b[0m\u001b[0ma\u001b[0m\u001b[0;34m[\u001b[0m\u001b[0;34m'href'\u001b[0m\u001b[0;34m]\u001b[0m \u001b[0;32mfor\u001b[0m \u001b[0ma\u001b[0m \u001b[0;32min\u001b[0m \u001b[0mroute_table\u001b[0m\u001b[0;34m.\u001b[0m\u001b[0mfind_all\u001b[0m\u001b[0;34m(\u001b[0m\u001b[0;34m\"a\"\u001b[0m\u001b[0;34m)\u001b[0m\u001b[0;34m]\u001b[0m\u001b[0;34m\u001b[0m\u001b[0;34m\u001b[0m\u001b[0m\n\u001b[1;32m     25\u001b[0m             \u001b[0;32mfor\u001b[0m \u001b[0mlink\u001b[0m \u001b[0;32min\u001b[0m \u001b[0mroutelinks\u001b[0m\u001b[0;34m:\u001b[0m\u001b[0;34m\u001b[0m\u001b[0;34m\u001b[0m\u001b[0m\n\u001b[0;32m---> 26\u001b[0;31m                 \u001b[0madd_route\u001b[0m\u001b[0;34m(\u001b[0m\u001b[0mlink\u001b[0m\u001b[0;34m,\u001b[0m \u001b[0mcursor\u001b[0m\u001b[0;34m)\u001b[0m\u001b[0;34m\u001b[0m\u001b[0;34m\u001b[0m\u001b[0m\n\u001b[0m\u001b[1;32m     27\u001b[0m         \u001b[0;31m#if there are neither, this page is empty\u001b[0m\u001b[0;34m\u001b[0m\u001b[0;34m\u001b[0m\u001b[0m\n\u001b[1;32m     28\u001b[0m         \u001b[0;32melse\u001b[0m\u001b[0;34m:\u001b[0m\u001b[0;34m\u001b[0m\u001b[0;34m\u001b[0m\u001b[0m\n",
      "\u001b[0;32m/var/folders/xg/m55_3f_j3gj2wj8qgbv3jj_c0000gn/T/ipykernel_78240/2719239459.py\u001b[0m in \u001b[0;36madd_route\u001b[0;34m(routelink, cursor)\u001b[0m\n\u001b[1;32m      2\u001b[0m     \u001b[0mprint\u001b[0m\u001b[0;34m(\u001b[0m\u001b[0;34mf\"Adding route {routelink}\"\u001b[0m\u001b[0;34m)\u001b[0m\u001b[0;34m\u001b[0m\u001b[0;34m\u001b[0m\u001b[0m\n\u001b[1;32m      3\u001b[0m     \u001b[0;31m#make some soup\u001b[0m\u001b[0;34m\u001b[0m\u001b[0;34m\u001b[0m\u001b[0m\n\u001b[0;32m----> 4\u001b[0;31m     \u001b[0mres\u001b[0m \u001b[0;34m=\u001b[0m \u001b[0mrequests\u001b[0m\u001b[0;34m.\u001b[0m\u001b[0mget\u001b[0m\u001b[0;34m(\u001b[0m\u001b[0mroutelink\u001b[0m\u001b[0;34m)\u001b[0m\u001b[0;34m\u001b[0m\u001b[0;34m\u001b[0m\u001b[0m\n\u001b[0m\u001b[1;32m      5\u001b[0m     \u001b[0;32mtry\u001b[0m\u001b[0;34m:\u001b[0m\u001b[0;34m\u001b[0m\u001b[0;34m\u001b[0m\u001b[0m\n\u001b[1;32m      6\u001b[0m         \u001b[0mres\u001b[0m\u001b[0;34m.\u001b[0m\u001b[0mraise_for_status\u001b[0m\u001b[0;34m(\u001b[0m\u001b[0;34m)\u001b[0m\u001b[0;34m\u001b[0m\u001b[0;34m\u001b[0m\u001b[0m\n",
      "\u001b[0;32m/opt/anaconda3/envs/dsi/lib/python3.9/site-packages/requests/api.py\u001b[0m in \u001b[0;36mget\u001b[0;34m(url, params, **kwargs)\u001b[0m\n\u001b[1;32m     73\u001b[0m     \"\"\"\n\u001b[1;32m     74\u001b[0m \u001b[0;34m\u001b[0m\u001b[0m\n\u001b[0;32m---> 75\u001b[0;31m     \u001b[0;32mreturn\u001b[0m \u001b[0mrequest\u001b[0m\u001b[0;34m(\u001b[0m\u001b[0;34m'get'\u001b[0m\u001b[0;34m,\u001b[0m \u001b[0murl\u001b[0m\u001b[0;34m,\u001b[0m \u001b[0mparams\u001b[0m\u001b[0;34m=\u001b[0m\u001b[0mparams\u001b[0m\u001b[0;34m,\u001b[0m \u001b[0;34m**\u001b[0m\u001b[0mkwargs\u001b[0m\u001b[0;34m)\u001b[0m\u001b[0;34m\u001b[0m\u001b[0;34m\u001b[0m\u001b[0m\n\u001b[0m\u001b[1;32m     76\u001b[0m \u001b[0;34m\u001b[0m\u001b[0m\n\u001b[1;32m     77\u001b[0m \u001b[0;34m\u001b[0m\u001b[0m\n",
      "\u001b[0;32m/opt/anaconda3/envs/dsi/lib/python3.9/site-packages/requests/api.py\u001b[0m in \u001b[0;36mrequest\u001b[0;34m(method, url, **kwargs)\u001b[0m\n\u001b[1;32m     59\u001b[0m     \u001b[0;31m# cases, and look like a memory leak in others.\u001b[0m\u001b[0;34m\u001b[0m\u001b[0;34m\u001b[0m\u001b[0m\n\u001b[1;32m     60\u001b[0m     \u001b[0;32mwith\u001b[0m \u001b[0msessions\u001b[0m\u001b[0;34m.\u001b[0m\u001b[0mSession\u001b[0m\u001b[0;34m(\u001b[0m\u001b[0;34m)\u001b[0m \u001b[0;32mas\u001b[0m \u001b[0msession\u001b[0m\u001b[0;34m:\u001b[0m\u001b[0;34m\u001b[0m\u001b[0;34m\u001b[0m\u001b[0m\n\u001b[0;32m---> 61\u001b[0;31m         \u001b[0;32mreturn\u001b[0m \u001b[0msession\u001b[0m\u001b[0;34m.\u001b[0m\u001b[0mrequest\u001b[0m\u001b[0;34m(\u001b[0m\u001b[0mmethod\u001b[0m\u001b[0;34m=\u001b[0m\u001b[0mmethod\u001b[0m\u001b[0;34m,\u001b[0m \u001b[0murl\u001b[0m\u001b[0;34m=\u001b[0m\u001b[0murl\u001b[0m\u001b[0;34m,\u001b[0m \u001b[0;34m**\u001b[0m\u001b[0mkwargs\u001b[0m\u001b[0;34m)\u001b[0m\u001b[0;34m\u001b[0m\u001b[0;34m\u001b[0m\u001b[0m\n\u001b[0m\u001b[1;32m     62\u001b[0m \u001b[0;34m\u001b[0m\u001b[0m\n\u001b[1;32m     63\u001b[0m \u001b[0;34m\u001b[0m\u001b[0m\n",
      "\u001b[0;32m/opt/anaconda3/envs/dsi/lib/python3.9/site-packages/requests/sessions.py\u001b[0m in \u001b[0;36mrequest\u001b[0;34m(self, method, url, params, data, headers, cookies, files, auth, timeout, allow_redirects, proxies, hooks, stream, verify, cert, json)\u001b[0m\n\u001b[1;32m    527\u001b[0m         }\n\u001b[1;32m    528\u001b[0m         \u001b[0msend_kwargs\u001b[0m\u001b[0;34m.\u001b[0m\u001b[0mupdate\u001b[0m\u001b[0;34m(\u001b[0m\u001b[0msettings\u001b[0m\u001b[0;34m)\u001b[0m\u001b[0;34m\u001b[0m\u001b[0;34m\u001b[0m\u001b[0m\n\u001b[0;32m--> 529\u001b[0;31m         \u001b[0mresp\u001b[0m \u001b[0;34m=\u001b[0m \u001b[0mself\u001b[0m\u001b[0;34m.\u001b[0m\u001b[0msend\u001b[0m\u001b[0;34m(\u001b[0m\u001b[0mprep\u001b[0m\u001b[0;34m,\u001b[0m \u001b[0;34m**\u001b[0m\u001b[0msend_kwargs\u001b[0m\u001b[0;34m)\u001b[0m\u001b[0;34m\u001b[0m\u001b[0;34m\u001b[0m\u001b[0m\n\u001b[0m\u001b[1;32m    530\u001b[0m \u001b[0;34m\u001b[0m\u001b[0m\n\u001b[1;32m    531\u001b[0m         \u001b[0;32mreturn\u001b[0m \u001b[0mresp\u001b[0m\u001b[0;34m\u001b[0m\u001b[0;34m\u001b[0m\u001b[0m\n",
      "\u001b[0;32m/opt/anaconda3/envs/dsi/lib/python3.9/site-packages/requests/sessions.py\u001b[0m in \u001b[0;36msend\u001b[0;34m(self, request, **kwargs)\u001b[0m\n\u001b[1;32m    643\u001b[0m \u001b[0;34m\u001b[0m\u001b[0m\n\u001b[1;32m    644\u001b[0m         \u001b[0;31m# Send the request\u001b[0m\u001b[0;34m\u001b[0m\u001b[0;34m\u001b[0m\u001b[0m\n\u001b[0;32m--> 645\u001b[0;31m         \u001b[0mr\u001b[0m \u001b[0;34m=\u001b[0m \u001b[0madapter\u001b[0m\u001b[0;34m.\u001b[0m\u001b[0msend\u001b[0m\u001b[0;34m(\u001b[0m\u001b[0mrequest\u001b[0m\u001b[0;34m,\u001b[0m \u001b[0;34m**\u001b[0m\u001b[0mkwargs\u001b[0m\u001b[0;34m)\u001b[0m\u001b[0;34m\u001b[0m\u001b[0;34m\u001b[0m\u001b[0m\n\u001b[0m\u001b[1;32m    646\u001b[0m \u001b[0;34m\u001b[0m\u001b[0m\n\u001b[1;32m    647\u001b[0m         \u001b[0;31m# Total elapsed time of the request (approximately)\u001b[0m\u001b[0;34m\u001b[0m\u001b[0;34m\u001b[0m\u001b[0m\n",
      "\u001b[0;32m/opt/anaconda3/envs/dsi/lib/python3.9/site-packages/requests/adapters.py\u001b[0m in \u001b[0;36msend\u001b[0;34m(self, request, stream, timeout, verify, cert, proxies)\u001b[0m\n\u001b[1;32m    438\u001b[0m         \u001b[0;32mtry\u001b[0m\u001b[0;34m:\u001b[0m\u001b[0;34m\u001b[0m\u001b[0;34m\u001b[0m\u001b[0m\n\u001b[1;32m    439\u001b[0m             \u001b[0;32mif\u001b[0m \u001b[0;32mnot\u001b[0m \u001b[0mchunked\u001b[0m\u001b[0;34m:\u001b[0m\u001b[0;34m\u001b[0m\u001b[0;34m\u001b[0m\u001b[0m\n\u001b[0;32m--> 440\u001b[0;31m                 resp = conn.urlopen(\n\u001b[0m\u001b[1;32m    441\u001b[0m                     \u001b[0mmethod\u001b[0m\u001b[0;34m=\u001b[0m\u001b[0mrequest\u001b[0m\u001b[0;34m.\u001b[0m\u001b[0mmethod\u001b[0m\u001b[0;34m,\u001b[0m\u001b[0;34m\u001b[0m\u001b[0;34m\u001b[0m\u001b[0m\n\u001b[1;32m    442\u001b[0m                     \u001b[0murl\u001b[0m\u001b[0;34m=\u001b[0m\u001b[0murl\u001b[0m\u001b[0;34m,\u001b[0m\u001b[0;34m\u001b[0m\u001b[0;34m\u001b[0m\u001b[0m\n",
      "\u001b[0;32m/opt/anaconda3/envs/dsi/lib/python3.9/site-packages/urllib3/connectionpool.py\u001b[0m in \u001b[0;36murlopen\u001b[0;34m(self, method, url, body, headers, retries, redirect, assert_same_host, timeout, pool_timeout, release_conn, chunked, body_pos, **response_kw)\u001b[0m\n\u001b[1;32m    701\u001b[0m \u001b[0;34m\u001b[0m\u001b[0m\n\u001b[1;32m    702\u001b[0m             \u001b[0;31m# Make the request on the httplib connection object.\u001b[0m\u001b[0;34m\u001b[0m\u001b[0;34m\u001b[0m\u001b[0m\n\u001b[0;32m--> 703\u001b[0;31m             httplib_response = self._make_request(\n\u001b[0m\u001b[1;32m    704\u001b[0m                 \u001b[0mconn\u001b[0m\u001b[0;34m,\u001b[0m\u001b[0;34m\u001b[0m\u001b[0;34m\u001b[0m\u001b[0m\n\u001b[1;32m    705\u001b[0m                 \u001b[0mmethod\u001b[0m\u001b[0;34m,\u001b[0m\u001b[0;34m\u001b[0m\u001b[0;34m\u001b[0m\u001b[0m\n",
      "\u001b[0;32m/opt/anaconda3/envs/dsi/lib/python3.9/site-packages/urllib3/connectionpool.py\u001b[0m in \u001b[0;36m_make_request\u001b[0;34m(self, conn, method, url, timeout, chunked, **httplib_request_kw)\u001b[0m\n\u001b[1;32m    384\u001b[0m         \u001b[0;31m# Trigger any extra validation we need to do.\u001b[0m\u001b[0;34m\u001b[0m\u001b[0;34m\u001b[0m\u001b[0m\n\u001b[1;32m    385\u001b[0m         \u001b[0;32mtry\u001b[0m\u001b[0;34m:\u001b[0m\u001b[0;34m\u001b[0m\u001b[0;34m\u001b[0m\u001b[0m\n\u001b[0;32m--> 386\u001b[0;31m             \u001b[0mself\u001b[0m\u001b[0;34m.\u001b[0m\u001b[0m_validate_conn\u001b[0m\u001b[0;34m(\u001b[0m\u001b[0mconn\u001b[0m\u001b[0;34m)\u001b[0m\u001b[0;34m\u001b[0m\u001b[0;34m\u001b[0m\u001b[0m\n\u001b[0m\u001b[1;32m    387\u001b[0m         \u001b[0;32mexcept\u001b[0m \u001b[0;34m(\u001b[0m\u001b[0mSocketTimeout\u001b[0m\u001b[0;34m,\u001b[0m \u001b[0mBaseSSLError\u001b[0m\u001b[0;34m)\u001b[0m \u001b[0;32mas\u001b[0m \u001b[0me\u001b[0m\u001b[0;34m:\u001b[0m\u001b[0;34m\u001b[0m\u001b[0;34m\u001b[0m\u001b[0m\n\u001b[1;32m    388\u001b[0m             \u001b[0;31m# Py2 raises this as a BaseSSLError, Py3 raises it as socket timeout.\u001b[0m\u001b[0;34m\u001b[0m\u001b[0;34m\u001b[0m\u001b[0m\n",
      "\u001b[0;32m/opt/anaconda3/envs/dsi/lib/python3.9/site-packages/urllib3/connectionpool.py\u001b[0m in \u001b[0;36m_validate_conn\u001b[0;34m(self, conn)\u001b[0m\n\u001b[1;32m   1038\u001b[0m         \u001b[0;31m# Force connect early to allow us to validate the connection.\u001b[0m\u001b[0;34m\u001b[0m\u001b[0;34m\u001b[0m\u001b[0m\n\u001b[1;32m   1039\u001b[0m         \u001b[0;32mif\u001b[0m \u001b[0;32mnot\u001b[0m \u001b[0mgetattr\u001b[0m\u001b[0;34m(\u001b[0m\u001b[0mconn\u001b[0m\u001b[0;34m,\u001b[0m \u001b[0;34m\"sock\"\u001b[0m\u001b[0;34m,\u001b[0m \u001b[0;32mNone\u001b[0m\u001b[0;34m)\u001b[0m\u001b[0;34m:\u001b[0m  \u001b[0;31m# AppEngine might not have  `.sock`\u001b[0m\u001b[0;34m\u001b[0m\u001b[0;34m\u001b[0m\u001b[0m\n\u001b[0;32m-> 1040\u001b[0;31m             \u001b[0mconn\u001b[0m\u001b[0;34m.\u001b[0m\u001b[0mconnect\u001b[0m\u001b[0;34m(\u001b[0m\u001b[0;34m)\u001b[0m\u001b[0;34m\u001b[0m\u001b[0;34m\u001b[0m\u001b[0m\n\u001b[0m\u001b[1;32m   1041\u001b[0m \u001b[0;34m\u001b[0m\u001b[0m\n\u001b[1;32m   1042\u001b[0m         \u001b[0;32mif\u001b[0m \u001b[0;32mnot\u001b[0m \u001b[0mconn\u001b[0m\u001b[0;34m.\u001b[0m\u001b[0mis_verified\u001b[0m\u001b[0;34m:\u001b[0m\u001b[0;34m\u001b[0m\u001b[0;34m\u001b[0m\u001b[0m\n",
      "\u001b[0;32m/opt/anaconda3/envs/dsi/lib/python3.9/site-packages/urllib3/connection.py\u001b[0m in \u001b[0;36mconnect\u001b[0;34m(self)\u001b[0m\n\u001b[1;32m    414\u001b[0m             \u001b[0mcontext\u001b[0m\u001b[0;34m.\u001b[0m\u001b[0mload_default_certs\u001b[0m\u001b[0;34m(\u001b[0m\u001b[0;34m)\u001b[0m\u001b[0;34m\u001b[0m\u001b[0;34m\u001b[0m\u001b[0m\n\u001b[1;32m    415\u001b[0m \u001b[0;34m\u001b[0m\u001b[0m\n\u001b[0;32m--> 416\u001b[0;31m         self.sock = ssl_wrap_socket(\n\u001b[0m\u001b[1;32m    417\u001b[0m             \u001b[0msock\u001b[0m\u001b[0;34m=\u001b[0m\u001b[0mconn\u001b[0m\u001b[0;34m,\u001b[0m\u001b[0;34m\u001b[0m\u001b[0;34m\u001b[0m\u001b[0m\n\u001b[1;32m    418\u001b[0m             \u001b[0mkeyfile\u001b[0m\u001b[0;34m=\u001b[0m\u001b[0mself\u001b[0m\u001b[0;34m.\u001b[0m\u001b[0mkey_file\u001b[0m\u001b[0;34m,\u001b[0m\u001b[0;34m\u001b[0m\u001b[0;34m\u001b[0m\u001b[0m\n",
      "\u001b[0;32m/opt/anaconda3/envs/dsi/lib/python3.9/site-packages/urllib3/util/ssl_.py\u001b[0m in \u001b[0;36mssl_wrap_socket\u001b[0;34m(sock, keyfile, certfile, cert_reqs, ca_certs, server_hostname, ssl_version, ciphers, ssl_context, ca_cert_dir, key_password, ca_cert_data, tls_in_tls)\u001b[0m\n\u001b[1;32m    447\u001b[0m \u001b[0;34m\u001b[0m\u001b[0m\n\u001b[1;32m    448\u001b[0m     \u001b[0;32mif\u001b[0m \u001b[0msend_sni\u001b[0m\u001b[0;34m:\u001b[0m\u001b[0;34m\u001b[0m\u001b[0;34m\u001b[0m\u001b[0m\n\u001b[0;32m--> 449\u001b[0;31m         ssl_sock = _ssl_wrap_socket_impl(\n\u001b[0m\u001b[1;32m    450\u001b[0m             \u001b[0msock\u001b[0m\u001b[0;34m,\u001b[0m \u001b[0mcontext\u001b[0m\u001b[0;34m,\u001b[0m \u001b[0mtls_in_tls\u001b[0m\u001b[0;34m,\u001b[0m \u001b[0mserver_hostname\u001b[0m\u001b[0;34m=\u001b[0m\u001b[0mserver_hostname\u001b[0m\u001b[0;34m\u001b[0m\u001b[0;34m\u001b[0m\u001b[0m\n\u001b[1;32m    451\u001b[0m         )\n",
      "\u001b[0;32m/opt/anaconda3/envs/dsi/lib/python3.9/site-packages/urllib3/util/ssl_.py\u001b[0m in \u001b[0;36m_ssl_wrap_socket_impl\u001b[0;34m(sock, ssl_context, tls_in_tls, server_hostname)\u001b[0m\n\u001b[1;32m    491\u001b[0m \u001b[0;34m\u001b[0m\u001b[0m\n\u001b[1;32m    492\u001b[0m     \u001b[0;32mif\u001b[0m \u001b[0mserver_hostname\u001b[0m\u001b[0;34m:\u001b[0m\u001b[0;34m\u001b[0m\u001b[0;34m\u001b[0m\u001b[0m\n\u001b[0;32m--> 493\u001b[0;31m         \u001b[0;32mreturn\u001b[0m \u001b[0mssl_context\u001b[0m\u001b[0;34m.\u001b[0m\u001b[0mwrap_socket\u001b[0m\u001b[0;34m(\u001b[0m\u001b[0msock\u001b[0m\u001b[0;34m,\u001b[0m \u001b[0mserver_hostname\u001b[0m\u001b[0;34m=\u001b[0m\u001b[0mserver_hostname\u001b[0m\u001b[0;34m)\u001b[0m\u001b[0;34m\u001b[0m\u001b[0;34m\u001b[0m\u001b[0m\n\u001b[0m\u001b[1;32m    494\u001b[0m     \u001b[0;32melse\u001b[0m\u001b[0;34m:\u001b[0m\u001b[0;34m\u001b[0m\u001b[0;34m\u001b[0m\u001b[0m\n\u001b[1;32m    495\u001b[0m         \u001b[0;32mreturn\u001b[0m \u001b[0mssl_context\u001b[0m\u001b[0;34m.\u001b[0m\u001b[0mwrap_socket\u001b[0m\u001b[0;34m(\u001b[0m\u001b[0msock\u001b[0m\u001b[0;34m)\u001b[0m\u001b[0;34m\u001b[0m\u001b[0;34m\u001b[0m\u001b[0m\n",
      "\u001b[0;32m/opt/anaconda3/envs/dsi/lib/python3.9/ssl.py\u001b[0m in \u001b[0;36mwrap_socket\u001b[0;34m(self, sock, server_side, do_handshake_on_connect, suppress_ragged_eofs, server_hostname, session)\u001b[0m\n\u001b[1;32m    498\u001b[0m         \u001b[0;31m# SSLSocket class handles server_hostname encoding before it calls\u001b[0m\u001b[0;34m\u001b[0m\u001b[0;34m\u001b[0m\u001b[0m\n\u001b[1;32m    499\u001b[0m         \u001b[0;31m# ctx._wrap_socket()\u001b[0m\u001b[0;34m\u001b[0m\u001b[0;34m\u001b[0m\u001b[0m\n\u001b[0;32m--> 500\u001b[0;31m         return self.sslsocket_class._create(\n\u001b[0m\u001b[1;32m    501\u001b[0m             \u001b[0msock\u001b[0m\u001b[0;34m=\u001b[0m\u001b[0msock\u001b[0m\u001b[0;34m,\u001b[0m\u001b[0;34m\u001b[0m\u001b[0;34m\u001b[0m\u001b[0m\n\u001b[1;32m    502\u001b[0m             \u001b[0mserver_side\u001b[0m\u001b[0;34m=\u001b[0m\u001b[0mserver_side\u001b[0m\u001b[0;34m,\u001b[0m\u001b[0;34m\u001b[0m\u001b[0;34m\u001b[0m\u001b[0m\n",
      "\u001b[0;32m/opt/anaconda3/envs/dsi/lib/python3.9/ssl.py\u001b[0m in \u001b[0;36m_create\u001b[0;34m(cls, sock, server_side, do_handshake_on_connect, suppress_ragged_eofs, server_hostname, context, session)\u001b[0m\n\u001b[1;32m   1038\u001b[0m                         \u001b[0;31m# non-blocking\u001b[0m\u001b[0;34m\u001b[0m\u001b[0;34m\u001b[0m\u001b[0m\n\u001b[1;32m   1039\u001b[0m                         \u001b[0;32mraise\u001b[0m \u001b[0mValueError\u001b[0m\u001b[0;34m(\u001b[0m\u001b[0;34m\"do_handshake_on_connect should not be specified for non-blocking sockets\"\u001b[0m\u001b[0;34m)\u001b[0m\u001b[0;34m\u001b[0m\u001b[0;34m\u001b[0m\u001b[0m\n\u001b[0;32m-> 1040\u001b[0;31m                     \u001b[0mself\u001b[0m\u001b[0;34m.\u001b[0m\u001b[0mdo_handshake\u001b[0m\u001b[0;34m(\u001b[0m\u001b[0;34m)\u001b[0m\u001b[0;34m\u001b[0m\u001b[0;34m\u001b[0m\u001b[0m\n\u001b[0m\u001b[1;32m   1041\u001b[0m             \u001b[0;32mexcept\u001b[0m \u001b[0;34m(\u001b[0m\u001b[0mOSError\u001b[0m\u001b[0;34m,\u001b[0m \u001b[0mValueError\u001b[0m\u001b[0;34m)\u001b[0m\u001b[0;34m:\u001b[0m\u001b[0;34m\u001b[0m\u001b[0;34m\u001b[0m\u001b[0m\n\u001b[1;32m   1042\u001b[0m                 \u001b[0mself\u001b[0m\u001b[0;34m.\u001b[0m\u001b[0mclose\u001b[0m\u001b[0;34m(\u001b[0m\u001b[0;34m)\u001b[0m\u001b[0;34m\u001b[0m\u001b[0;34m\u001b[0m\u001b[0m\n",
      "\u001b[0;32m/opt/anaconda3/envs/dsi/lib/python3.9/ssl.py\u001b[0m in \u001b[0;36mdo_handshake\u001b[0;34m(self, block)\u001b[0m\n\u001b[1;32m   1307\u001b[0m             \u001b[0;32mif\u001b[0m \u001b[0mtimeout\u001b[0m \u001b[0;34m==\u001b[0m \u001b[0;36m0.0\u001b[0m \u001b[0;32mand\u001b[0m \u001b[0mblock\u001b[0m\u001b[0;34m:\u001b[0m\u001b[0;34m\u001b[0m\u001b[0;34m\u001b[0m\u001b[0m\n\u001b[1;32m   1308\u001b[0m                 \u001b[0mself\u001b[0m\u001b[0;34m.\u001b[0m\u001b[0msettimeout\u001b[0m\u001b[0;34m(\u001b[0m\u001b[0;32mNone\u001b[0m\u001b[0;34m)\u001b[0m\u001b[0;34m\u001b[0m\u001b[0;34m\u001b[0m\u001b[0m\n\u001b[0;32m-> 1309\u001b[0;31m             \u001b[0mself\u001b[0m\u001b[0;34m.\u001b[0m\u001b[0m_sslobj\u001b[0m\u001b[0;34m.\u001b[0m\u001b[0mdo_handshake\u001b[0m\u001b[0;34m(\u001b[0m\u001b[0;34m)\u001b[0m\u001b[0;34m\u001b[0m\u001b[0;34m\u001b[0m\u001b[0m\n\u001b[0m\u001b[1;32m   1310\u001b[0m         \u001b[0;32mfinally\u001b[0m\u001b[0;34m:\u001b[0m\u001b[0;34m\u001b[0m\u001b[0;34m\u001b[0m\u001b[0m\n\u001b[1;32m   1311\u001b[0m             \u001b[0mself\u001b[0m\u001b[0;34m.\u001b[0m\u001b[0msettimeout\u001b[0m\u001b[0;34m(\u001b[0m\u001b[0mtimeout\u001b[0m\u001b[0;34m)\u001b[0m\u001b[0;34m\u001b[0m\u001b[0;34m\u001b[0m\u001b[0m\n",
      "\u001b[0;31mKeyboardInterrupt\u001b[0m: "
     ]
    }
   ],
   "source": [
    "test_dict= {\"106305856\": [\"Yellow Bluff\",\n",
    "  \"https://www.mountainproject.com/area/106305856/yellow-bluff\"]}\n",
    "mp_scrape(test_dict, cursor)\n",
    "connector.commit()"
   ]
  },
  {
   "cell_type": "code",
   "execution_count": 149,
   "id": "1d57316a-a326-4319-a208-83a149189ec9",
   "metadata": {},
   "outputs": [],
   "source": [
    "sql = \"\"\"\n",
    "SELECT *\n",
    "FROM routes;\n",
    "\"\"\"\n",
    "test_df = pd.read_sql(sql, connector)\n",
    "test_df"
   ]
  },
  {
   "cell_type": "code",
   "execution_count": 162,
   "id": "73a572e3-8ea0-4fe4-98cc-6e09a32e367a",
   "metadata": {},
   "outputs": [
    {
     "data": {
      "text/html": [
       "<div>\n",
       "<style scoped>\n",
       "    .dataframe tbody tr th:only-of-type {\n",
       "        vertical-align: middle;\n",
       "    }\n",
       "\n",
       "    .dataframe tbody tr th {\n",
       "        vertical-align: top;\n",
       "    }\n",
       "\n",
       "    .dataframe thead th {\n",
       "        text-align: right;\n",
       "    }\n",
       "</style>\n",
       "<table border=\"1\" class=\"dataframe\">\n",
       "  <thead>\n",
       "    <tr style=\"text-align: right;\">\n",
       "      <th></th>\n",
       "      <th>link</th>\n",
       "      <th>risk_rating</th>\n",
       "    </tr>\n",
       "  </thead>\n",
       "  <tbody>\n",
       "    <tr>\n",
       "      <th>0</th>\n",
       "      <td>https://www.mountainproject.com/route/10640886...</td>\n",
       "      <td>5.7 YDS 5a French 15 Ewbanks V+ UIAA 13 ZA MVS...</td>\n",
       "    </tr>\n",
       "    <tr>\n",
       "      <th>1</th>\n",
       "      <td>https://www.mountainproject.com/route/10641120...</td>\n",
       "      <td>5.10- YDS 6a French 18 Ewbanks VI+ UIAA 18 ZA ...</td>\n",
       "    </tr>\n",
       "    <tr>\n",
       "      <th>10</th>\n",
       "      <td>https://www.mountainproject.com/route/10642588...</td>\n",
       "      <td>5.11a YDS 6c French 22 Ewbanks VII+ UIAA 22 ZA...</td>\n",
       "    </tr>\n",
       "    <tr>\n",
       "      <th>11</th>\n",
       "      <td>https://www.mountainproject.com/route/10643094...</td>\n",
       "      <td>5.11a YDS 6c French 22 Ewbanks VII+ UIAA 22 ZA...</td>\n",
       "    </tr>\n",
       "    <tr>\n",
       "      <th>13</th>\n",
       "      <td>https://www.mountainproject.com/route/10666464...</td>\n",
       "      <td>5.5 YDS 4b French 13 Ewbanks IV+ UIAA 11 ZA MS...</td>\n",
       "    </tr>\n",
       "    <tr>\n",
       "      <th>...</th>\n",
       "      <td>...</td>\n",
       "      <td>...</td>\n",
       "    </tr>\n",
       "    <tr>\n",
       "      <th>71</th>\n",
       "      <td>https://www.mountainproject.com/route/11197248...</td>\n",
       "      <td>5.10b/c YDS 6b French 20 Ewbanks VII UIAA 20 Z...</td>\n",
       "    </tr>\n",
       "    <tr>\n",
       "      <th>72</th>\n",
       "      <td>https://www.mountainproject.com/route/11211461...</td>\n",
       "      <td>4th YDS 1 French 2 Ewbanks I UIAA 2 ZA M 1b Br...</td>\n",
       "    </tr>\n",
       "    <tr>\n",
       "      <th>73</th>\n",
       "      <td>https://www.mountainproject.com/route/11531867...</td>\n",
       "      <td>5.10b YDS 6a+ French 19 Ewbanks VII- UIAA 19 Z...</td>\n",
       "    </tr>\n",
       "    <tr>\n",
       "      <th>75</th>\n",
       "      <td>https://www.mountainproject.com/route/11883877...</td>\n",
       "      <td>5.4 YDS 4a French 12 Ewbanks IV UIAA 10 ZA VD ...</td>\n",
       "    </tr>\n",
       "    <tr>\n",
       "      <th>76</th>\n",
       "      <td>https://www.mountainproject.com/route/11883878...</td>\n",
       "      <td>5.4 YDS 4a French 12 Ewbanks IV UIAA 10 ZA VD ...</td>\n",
       "    </tr>\n",
       "  </tbody>\n",
       "</table>\n",
       "<p>66 rows × 2 columns</p>\n",
       "</div>"
      ],
      "text/plain": [
       "                                                 link  \\\n",
       "0   https://www.mountainproject.com/route/10640886...   \n",
       "1   https://www.mountainproject.com/route/10641120...   \n",
       "10  https://www.mountainproject.com/route/10642588...   \n",
       "11  https://www.mountainproject.com/route/10643094...   \n",
       "13  https://www.mountainproject.com/route/10666464...   \n",
       "..                                                ...   \n",
       "71  https://www.mountainproject.com/route/11197248...   \n",
       "72  https://www.mountainproject.com/route/11211461...   \n",
       "73  https://www.mountainproject.com/route/11531867...   \n",
       "75  https://www.mountainproject.com/route/11883877...   \n",
       "76  https://www.mountainproject.com/route/11883878...   \n",
       "\n",
       "                                          risk_rating  \n",
       "0   5.7 YDS 5a French 15 Ewbanks V+ UIAA 13 ZA MVS...  \n",
       "1   5.10- YDS 6a French 18 Ewbanks VI+ UIAA 18 ZA ...  \n",
       "10  5.11a YDS 6c French 22 Ewbanks VII+ UIAA 22 ZA...  \n",
       "11  5.11a YDS 6c French 22 Ewbanks VII+ UIAA 22 ZA...  \n",
       "13  5.5 YDS 4b French 13 Ewbanks IV+ UIAA 11 ZA MS...  \n",
       "..                                                ...  \n",
       "71  5.10b/c YDS 6b French 20 Ewbanks VII UIAA 20 Z...  \n",
       "72  4th YDS 1 French 2 Ewbanks I UIAA 2 ZA M 1b Br...  \n",
       "73  5.10b YDS 6a+ French 19 Ewbanks VII- UIAA 19 Z...  \n",
       "75  5.4 YDS 4a French 12 Ewbanks IV UIAA 10 ZA VD ...  \n",
       "76  5.4 YDS 4a French 12 Ewbanks IV UIAA 10 ZA VD ...  \n",
       "\n",
       "[66 rows x 2 columns]"
      ]
     },
     "execution_count": 162,
     "metadata": {},
     "output_type": "execute_result"
    }
   ],
   "source": [
    "test_df[test_df['risk_rating'].str.endswith('British')][['link', 'risk_rating']]"
   ]
  },
  {
   "cell_type": "code",
   "execution_count": 161,
   "id": "5b79daa8-c458-4fa4-ac46-39a953e768b7",
   "metadata": {},
   "outputs": [
    {
     "data": {
      "text/plain": [
       "'5.4 YDS 4a French 12 Ewbanks IV UIAA 10 ZA VD 3c British'"
      ]
     },
     "execution_count": 161,
     "metadata": {},
     "output_type": "execute_result"
    }
   ],
   "source": [
    "test_df.loc[76, 'risk_rating']"
   ]
  },
  {
   "cell_type": "code",
   "execution_count": 163,
   "id": "501e1aee-3188-4057-9b3c-70b43eddd78a",
   "metadata": {},
   "outputs": [
    {
     "data": {
      "text/plain": [
       "(77, 12)"
      ]
     },
     "execution_count": 163,
     "metadata": {},
     "output_type": "execute_result"
    }
   ],
   "source": [
    "test_df.shape"
   ]
  },
  {
   "cell_type": "code",
   "execution_count": 166,
   "id": "493e68e2-9d4f-449a-a471-dad5c07bb9fe",
   "metadata": {},
   "outputs": [
    {
     "data": {
      "text/plain": [
       "(11, 12)"
      ]
     },
     "execution_count": 166,
     "metadata": {},
     "output_type": "execute_result"
    }
   ],
   "source": [
    "test_df[test_df['risk_rating'].str.contains('Font')].shape"
   ]
  },
  {
   "cell_type": "code",
   "execution_count": 169,
   "id": "c6ce8356-29bb-4729-9d07-81eab692856b",
   "metadata": {},
   "outputs": [
    {
     "data": {
      "text/html": [
       "<div>\n",
       "<style scoped>\n",
       "    .dataframe tbody tr th:only-of-type {\n",
       "        vertical-align: middle;\n",
       "    }\n",
       "\n",
       "    .dataframe tbody tr th {\n",
       "        vertical-align: top;\n",
       "    }\n",
       "\n",
       "    .dataframe thead th {\n",
       "        text-align: right;\n",
       "    }\n",
       "</style>\n",
       "<table border=\"1\" class=\"dataframe\">\n",
       "  <thead>\n",
       "    <tr style=\"text-align: right;\">\n",
       "      <th></th>\n",
       "      <th>comment_id</th>\n",
       "      <th>route_id</th>\n",
       "      <th>user_id</th>\n",
       "      <th>comment</th>\n",
       "    </tr>\n",
       "  </thead>\n",
       "  <tbody>\n",
       "  </tbody>\n",
       "</table>\n",
       "</div>"
      ],
      "text/plain": [
       "Empty DataFrame\n",
       "Columns: [comment_id, route_id, user_id, comment]\n",
       "Index: []"
      ]
     },
     "execution_count": 169,
     "metadata": {},
     "output_type": "execute_result"
    }
   ],
   "source": [
    "comments = pd.read_sql(\"SELECT * FROM comments;\", connector)\n",
    "comments"
   ]
  },
  {
   "cell_type": "code",
   "execution_count": 186,
   "id": "0b2255da-168f-4ac3-8347-206fcf11838c",
   "metadata": {},
   "outputs": [
    {
     "data": {
      "text/html": [
       "<div>\n",
       "<style scoped>\n",
       "    .dataframe tbody tr th:only-of-type {\n",
       "        vertical-align: middle;\n",
       "    }\n",
       "\n",
       "    .dataframe tbody tr th {\n",
       "        vertical-align: top;\n",
       "    }\n",
       "\n",
       "    .dataframe thead th {\n",
       "        text-align: right;\n",
       "    }\n",
       "</style>\n",
       "<table border=\"1\" class=\"dataframe\">\n",
       "  <thead>\n",
       "    <tr style=\"text-align: right;\">\n",
       "      <th></th>\n",
       "      <th>user_id</th>\n",
       "      <th>route_id</th>\n",
       "      <th>suggested_rating</th>\n",
       "    </tr>\n",
       "  </thead>\n",
       "  <tbody>\n",
       "    <tr>\n",
       "      <th>0</th>\n",
       "      <td>106098470</td>\n",
       "      <td>5.8</td>\n",
       "      <td>111972455</td>\n",
       "    </tr>\n",
       "    <tr>\n",
       "      <th>1</th>\n",
       "      <td>106098470</td>\n",
       "      <td>5.10b/c</td>\n",
       "      <td>111972483</td>\n",
       "    </tr>\n",
       "    <tr>\n",
       "      <th>2</th>\n",
       "      <td>106098470</td>\n",
       "      <td>5.10a</td>\n",
       "      <td>111972427</td>\n",
       "    </tr>\n",
       "    <tr>\n",
       "      <th>3</th>\n",
       "      <td>200634965</td>\n",
       "      <td>V2+</td>\n",
       "      <td>106413411</td>\n",
       "    </tr>\n",
       "    <tr>\n",
       "      <th>4</th>\n",
       "      <td>106092355</td>\n",
       "      <td>V2-</td>\n",
       "      <td>106413411</td>\n",
       "    </tr>\n",
       "    <tr>\n",
       "      <th>...</th>\n",
       "      <td>...</td>\n",
       "      <td>...</td>\n",
       "      <td>...</td>\n",
       "    </tr>\n",
       "    <tr>\n",
       "      <th>359</th>\n",
       "      <td>106098470</td>\n",
       "      <td>5.10b/c</td>\n",
       "      <td>111972483</td>\n",
       "    </tr>\n",
       "    <tr>\n",
       "      <th>360</th>\n",
       "      <td>106098470</td>\n",
       "      <td>5.10a</td>\n",
       "      <td>111972427</td>\n",
       "    </tr>\n",
       "    <tr>\n",
       "      <th>361</th>\n",
       "      <td>200634965</td>\n",
       "      <td>V2+</td>\n",
       "      <td>106413411</td>\n",
       "    </tr>\n",
       "    <tr>\n",
       "      <th>362</th>\n",
       "      <td>106092355</td>\n",
       "      <td>V2-</td>\n",
       "      <td>106413411</td>\n",
       "    </tr>\n",
       "    <tr>\n",
       "      <th>363</th>\n",
       "      <td>106092355</td>\n",
       "      <td>V1-2</td>\n",
       "      <td>106413405</td>\n",
       "    </tr>\n",
       "  </tbody>\n",
       "</table>\n",
       "<p>364 rows × 3 columns</p>\n",
       "</div>"
      ],
      "text/plain": [
       "       user_id route_id suggested_rating\n",
       "0    106098470      5.8        111972455\n",
       "1    106098470  5.10b/c        111972483\n",
       "2    106098470    5.10a        111972427\n",
       "3    200634965      V2+        106413411\n",
       "4    106092355      V2-        106413411\n",
       "..         ...      ...              ...\n",
       "359  106098470  5.10b/c        111972483\n",
       "360  106098470    5.10a        111972427\n",
       "361  200634965      V2+        106413411\n",
       "362  106092355      V2-        106413411\n",
       "363  106092355     V1-2        106413405\n",
       "\n",
       "[364 rows x 3 columns]"
      ]
     },
     "execution_count": 186,
     "metadata": {},
     "output_type": "execute_result"
    }
   ],
   "source": [
    "sql = \"\"\"\n",
    "SELECT * \n",
    "FROM suggested_ratings\n",
    "\"\"\"\n",
    "pd.read_sql(sql, connector)"
   ]
  },
  {
   "cell_type": "code",
   "execution_count": 211,
   "id": "5be4a4fc-860e-4167-ad1d-3daf11b1c859",
   "metadata": {},
   "outputs": [
    {
     "name": "stdout",
     "output_type": "stream",
     "text": [
      "https://www.mountainproject.com/area/106305856/yellow-bluff is an empty area page\n",
      "Adding route https://www.mountainproject.com/route/106325615/mantle-problem\n",
      "Adding route https://www.mountainproject.com/route/106322478/dirty-laundry\n",
      "Adding route https://www.mountainproject.com/route/106327218/unknown\n",
      "Adding route https://www.mountainproject.com/route/106329925/vulcanunknown\n",
      "Adding route https://www.mountainproject.com/route/106322459/unknown\n"
     ]
    }
   ],
   "source": [
    "mp_scrape('https://www.mountainproject.com/area/106222485/colbert-heights', cursor)"
   ]
  },
  {
   "cell_type": "code",
   "execution_count": null,
   "id": "1a284f29-74c1-4ce1-b77d-92b18d87020a",
   "metadata": {},
   "outputs": [],
   "source": []
  }
 ],
 "metadata": {
  "kernelspec": {
   "display_name": "Python [conda env:dsi]",
   "language": "python",
   "name": "conda-env-dsi-py"
  },
  "language_info": {
   "codemirror_mode": {
    "name": "ipython",
    "version": 3
   },
   "file_extension": ".py",
   "mimetype": "text/x-python",
   "name": "python",
   "nbconvert_exporter": "python",
   "pygments_lexer": "ipython3",
   "version": "3.9.7"
  }
 },
 "nbformat": 4,
 "nbformat_minor": 5
}
